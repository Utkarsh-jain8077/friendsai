{
 "cells": [
  {
   "cell_type": "markdown",
   "metadata": {},
   "source": [
    "<h1 align=\"center\">HET Project Report </h1>\n",
    "\n",
    "<h2 align=\"center\">Friends AI</h2>\n",
    "\n",
    "\n",
    "<center><img width=\"240\" height=\"240\" src=\"download.png\"/></center>\n",
    "\n",
    "\n",
    "<p>\n",
    "    <ul>\n",
    "        <li> Sarvjeet Singh</li>\n",
    "        <li> 1900320120045 </li>\n",
    "        <li> Computer Science </li>\n",
    "    </ul>\n",
    " </p>\n",
    " \n",
    " <p>\n",
    "    <ul>\n",
    "        <li> Utkarsh Jain</li>\n",
    "        <li> 1900320120059 </li>\n",
    "        <li> Computer Science </li>\n",
    "    </ul>\n",
    " </p>\n",
    "<div style=\"text-align: right\">Submitted to : Mr Gopal Gupta </div>\n"
   ]
  },
  {
   "cell_type": "code",
   "execution_count": 1,
   "metadata": {},
   "outputs": [],
   "source": [
    "import pandas as pd\n",
    "import numpy as np\n",
    "import seaborn as sns\n",
    "import sklearn\n",
    "import matplotlib\n",
    "import numpy as np\n",
    "import matplotlib.pyplot as plt"
   ]
  },
  {
   "cell_type": "code",
   "execution_count": 2,
   "metadata": {},
   "outputs": [],
   "source": [
    "df = pd.read_csv(\"Data Collection.csv\")"
   ]
  },
  {
   "cell_type": "code",
   "execution_count": 3,
   "metadata": {},
   "outputs": [
    {
     "data": {
      "text/html": [
       "<div>\n",
       "<style scoped>\n",
       "    .dataframe tbody tr th:only-of-type {\n",
       "        vertical-align: middle;\n",
       "    }\n",
       "\n",
       "    .dataframe tbody tr th {\n",
       "        vertical-align: top;\n",
       "    }\n",
       "\n",
       "    .dataframe thead th {\n",
       "        text-align: right;\n",
       "    }\n",
       "</style>\n",
       "<table border=\"1\" class=\"dataframe\">\n",
       "  <thead>\n",
       "    <tr style=\"text-align: right;\">\n",
       "      <th></th>\n",
       "      <th>Timestamp</th>\n",
       "      <th>Your Name</th>\n",
       "      <th>University Roll No</th>\n",
       "      <th>Branch</th>\n",
       "      <th>Current Year</th>\n",
       "      <th>Gender</th>\n",
       "      <th>Age</th>\n",
       "      <th>Choose your Primary Technology</th>\n",
       "      <th>Choose your Secondary Technology</th>\n",
       "      <th>Primary Programming Language</th>\n",
       "      <th>...</th>\n",
       "      <th>What was your 12th percentage ?</th>\n",
       "      <th>What is your B.Tech aggregate SGPA ?</th>\n",
       "      <th>What is your Personality Type ?</th>\n",
       "      <th>What is your behavior ?</th>\n",
       "      <th>How you take your decisions ?</th>\n",
       "      <th>How easily can you adapt changes ?</th>\n",
       "      <th>Your approach towards life ?</th>\n",
       "      <th>Additional Interests.</th>\n",
       "      <th>Are you preparing for any exam ?</th>\n",
       "      <th>With what type of person do you want to be in contact ?</th>\n",
       "    </tr>\n",
       "  </thead>\n",
       "  <tbody>\n",
       "    <tr>\n",
       "      <th>0</th>\n",
       "      <td>2021/11/25 11:20:41 AM GMT+5:30</td>\n",
       "      <td>Naman Chaudhary</td>\n",
       "      <td>1803211033</td>\n",
       "      <td>CEIT</td>\n",
       "      <td>4</td>\n",
       "      <td>Male</td>\n",
       "      <td>20</td>\n",
       "      <td>Front-End</td>\n",
       "      <td>Cyber Security</td>\n",
       "      <td>C++</td>\n",
       "      <td>...</td>\n",
       "      <td>71% - 80%</td>\n",
       "      <td>7.1 - 8.0</td>\n",
       "      <td>4</td>\n",
       "      <td>4</td>\n",
       "      <td>3</td>\n",
       "      <td>3</td>\n",
       "      <td>3</td>\n",
       "      <td>Designing</td>\n",
       "      <td>No</td>\n",
       "      <td>Person with same personality traits as yours.</td>\n",
       "    </tr>\n",
       "    <tr>\n",
       "      <th>1</th>\n",
       "      <td>2021/11/25 11:20:49 AM GMT+5:30</td>\n",
       "      <td>Utsav Mehrotra</td>\n",
       "      <td>1803211058</td>\n",
       "      <td>CEIT</td>\n",
       "      <td>4</td>\n",
       "      <td>Male</td>\n",
       "      <td>21</td>\n",
       "      <td>Front-End</td>\n",
       "      <td>Back-End/ API</td>\n",
       "      <td>Python</td>\n",
       "      <td>...</td>\n",
       "      <td>71% - 80%</td>\n",
       "      <td>8.1 - 9.0</td>\n",
       "      <td>3</td>\n",
       "      <td>5</td>\n",
       "      <td>1</td>\n",
       "      <td>5</td>\n",
       "      <td>1</td>\n",
       "      <td>None of Above</td>\n",
       "      <td>No</td>\n",
       "      <td>Person with same personality traits as yours.</td>\n",
       "    </tr>\n",
       "    <tr>\n",
       "      <th>2</th>\n",
       "      <td>2021/11/25 11:21:07 AM GMT+5:30</td>\n",
       "      <td>Akshat Atray</td>\n",
       "      <td>1803211003</td>\n",
       "      <td>CEIT</td>\n",
       "      <td>4</td>\n",
       "      <td>Male</td>\n",
       "      <td>21</td>\n",
       "      <td>Front-End</td>\n",
       "      <td>IoS Development</td>\n",
       "      <td>C++</td>\n",
       "      <td>...</td>\n",
       "      <td>81% - 90%</td>\n",
       "      <td>8.1 - 9.0</td>\n",
       "      <td>4</td>\n",
       "      <td>5</td>\n",
       "      <td>2</td>\n",
       "      <td>5</td>\n",
       "      <td>2</td>\n",
       "      <td>Sports</td>\n",
       "      <td>No</td>\n",
       "      <td>Person with same personality traits as yours.</td>\n",
       "    </tr>\n",
       "    <tr>\n",
       "      <th>3</th>\n",
       "      <td>2021/11/25 11:21:09 AM GMT+5:30</td>\n",
       "      <td>Shivam Sharma</td>\n",
       "      <td>1900321290059</td>\n",
       "      <td>CEIT</td>\n",
       "      <td>3</td>\n",
       "      <td>Male</td>\n",
       "      <td>20</td>\n",
       "      <td>Front-End</td>\n",
       "      <td>Database</td>\n",
       "      <td>C</td>\n",
       "      <td>...</td>\n",
       "      <td>81% - 90%</td>\n",
       "      <td>7.1 - 8.0</td>\n",
       "      <td>4</td>\n",
       "      <td>4</td>\n",
       "      <td>4</td>\n",
       "      <td>3</td>\n",
       "      <td>4</td>\n",
       "      <td>Sports</td>\n",
       "      <td>No</td>\n",
       "      <td>Person with same personality traits as yours.</td>\n",
       "    </tr>\n",
       "    <tr>\n",
       "      <th>4</th>\n",
       "      <td>2021/11/25 11:22:16 AM GMT+5:30</td>\n",
       "      <td>Aditya saini</td>\n",
       "      <td>2000321530010</td>\n",
       "      <td>Computer Science( CS- AI/ML, CS - Data Science...</td>\n",
       "      <td>2</td>\n",
       "      <td>Male</td>\n",
       "      <td>20</td>\n",
       "      <td>Front-End</td>\n",
       "      <td>Android Development</td>\n",
       "      <td>C++</td>\n",
       "      <td>...</td>\n",
       "      <td>81% - 90%</td>\n",
       "      <td>8.1 - 9.0</td>\n",
       "      <td>4</td>\n",
       "      <td>5</td>\n",
       "      <td>3</td>\n",
       "      <td>5</td>\n",
       "      <td>2</td>\n",
       "      <td>Designing</td>\n",
       "      <td>UPSC</td>\n",
       "      <td>Person with same personality traits as yours.</td>\n",
       "    </tr>\n",
       "    <tr>\n",
       "      <th>...</th>\n",
       "      <td>...</td>\n",
       "      <td>...</td>\n",
       "      <td>...</td>\n",
       "      <td>...</td>\n",
       "      <td>...</td>\n",
       "      <td>...</td>\n",
       "      <td>...</td>\n",
       "      <td>...</td>\n",
       "      <td>...</td>\n",
       "      <td>...</td>\n",
       "      <td>...</td>\n",
       "      <td>...</td>\n",
       "      <td>...</td>\n",
       "      <td>...</td>\n",
       "      <td>...</td>\n",
       "      <td>...</td>\n",
       "      <td>...</td>\n",
       "      <td>...</td>\n",
       "      <td>...</td>\n",
       "      <td>...</td>\n",
       "      <td>...</td>\n",
       "    </tr>\n",
       "    <tr>\n",
       "      <th>323</th>\n",
       "      <td>2021/12/05 5:31:31 PM GMT+5:30</td>\n",
       "      <td>Sanskar garg</td>\n",
       "      <td>2000320120151</td>\n",
       "      <td>Computer Science( CS- AI/ML, CS - Data Science...</td>\n",
       "      <td>2</td>\n",
       "      <td>Male</td>\n",
       "      <td>19</td>\n",
       "      <td>Software Testing</td>\n",
       "      <td>Competitive Programming</td>\n",
       "      <td>C</td>\n",
       "      <td>...</td>\n",
       "      <td>81% - 90%</td>\n",
       "      <td>8.1 - 9.0</td>\n",
       "      <td>4</td>\n",
       "      <td>5</td>\n",
       "      <td>5</td>\n",
       "      <td>4</td>\n",
       "      <td>4</td>\n",
       "      <td>Sports</td>\n",
       "      <td>No</td>\n",
       "      <td>Person with opposite personality traits as yours.</td>\n",
       "    </tr>\n",
       "    <tr>\n",
       "      <th>324</th>\n",
       "      <td>2021/12/05 8:58:57 PM GMT+5:30</td>\n",
       "      <td>Sumit Jaiswal</td>\n",
       "      <td>2000320120176</td>\n",
       "      <td>Computer Science( CS- AI/ML, CS - Data Science...</td>\n",
       "      <td>2</td>\n",
       "      <td>Male</td>\n",
       "      <td>20</td>\n",
       "      <td>Blockchain</td>\n",
       "      <td>Machine Learning</td>\n",
       "      <td>C</td>\n",
       "      <td>...</td>\n",
       "      <td>71% - 80%</td>\n",
       "      <td>7.1 - 8.0</td>\n",
       "      <td>3</td>\n",
       "      <td>3</td>\n",
       "      <td>3</td>\n",
       "      <td>3</td>\n",
       "      <td>3</td>\n",
       "      <td>None of Above</td>\n",
       "      <td>No</td>\n",
       "      <td>Person with opposite personality traits as yours.</td>\n",
       "    </tr>\n",
       "    <tr>\n",
       "      <th>325</th>\n",
       "      <td>2021/12/06 10:45:56 AM GMT+5:30</td>\n",
       "      <td>Kapil Panwar</td>\n",
       "      <td>2000320120093</td>\n",
       "      <td>Computer Science( CS- AI/ML, CS - Data Science...</td>\n",
       "      <td>2</td>\n",
       "      <td>Male</td>\n",
       "      <td>20</td>\n",
       "      <td>Front-End</td>\n",
       "      <td>Back-End/ API</td>\n",
       "      <td>C</td>\n",
       "      <td>...</td>\n",
       "      <td>71% - 80%</td>\n",
       "      <td>8.1 - 9.0</td>\n",
       "      <td>1</td>\n",
       "      <td>4</td>\n",
       "      <td>3</td>\n",
       "      <td>3</td>\n",
       "      <td>3</td>\n",
       "      <td>None of Above</td>\n",
       "      <td>GATE</td>\n",
       "      <td>Person with opposite personality traits as yours.</td>\n",
       "    </tr>\n",
       "    <tr>\n",
       "      <th>326</th>\n",
       "      <td>2021/12/06 5:43:48 PM GMT+5:30</td>\n",
       "      <td>Santosh Pandit</td>\n",
       "      <td>2000320120152</td>\n",
       "      <td>Computer Science( CS- AI/ML, CS - Data Science...</td>\n",
       "      <td>2</td>\n",
       "      <td>Male</td>\n",
       "      <td>19</td>\n",
       "      <td>Front-End</td>\n",
       "      <td>Competitive Programming</td>\n",
       "      <td>C</td>\n",
       "      <td>...</td>\n",
       "      <td>81% - 90%</td>\n",
       "      <td>8.1 - 9.0</td>\n",
       "      <td>3</td>\n",
       "      <td>4</td>\n",
       "      <td>3</td>\n",
       "      <td>3</td>\n",
       "      <td>3</td>\n",
       "      <td>None of Above</td>\n",
       "      <td>No</td>\n",
       "      <td>Person with same personality traits as yours.</td>\n",
       "    </tr>\n",
       "    <tr>\n",
       "      <th>327</th>\n",
       "      <td>2021/12/07 12:09:26 PM GMT+5:30</td>\n",
       "      <td>Dev Tayal</td>\n",
       "      <td>2000320120070</td>\n",
       "      <td>Computer Science( CS- AI/ML, CS - Data Science...</td>\n",
       "      <td>2</td>\n",
       "      <td>Male</td>\n",
       "      <td>17</td>\n",
       "      <td>Competitive Programming</td>\n",
       "      <td>Front-End</td>\n",
       "      <td>C++</td>\n",
       "      <td>...</td>\n",
       "      <td>91% - 100%</td>\n",
       "      <td>9.1 - 10.0</td>\n",
       "      <td>5</td>\n",
       "      <td>3</td>\n",
       "      <td>1</td>\n",
       "      <td>2</td>\n",
       "      <td>3</td>\n",
       "      <td>Sports</td>\n",
       "      <td>No</td>\n",
       "      <td>Person with opposite personality traits as yours.</td>\n",
       "    </tr>\n",
       "  </tbody>\n",
       "</table>\n",
       "<p>328 rows × 24 columns</p>\n",
       "</div>"
      ],
      "text/plain": [
       "                           Timestamp        Your Name University Roll No  \\\n",
       "0    2021/11/25 11:20:41 AM GMT+5:30  Naman Chaudhary         1803211033   \n",
       "1    2021/11/25 11:20:49 AM GMT+5:30   Utsav Mehrotra         1803211058   \n",
       "2    2021/11/25 11:21:07 AM GMT+5:30     Akshat Atray         1803211003   \n",
       "3    2021/11/25 11:21:09 AM GMT+5:30    Shivam Sharma      1900321290059   \n",
       "4    2021/11/25 11:22:16 AM GMT+5:30     Aditya saini      2000321530010   \n",
       "..                               ...              ...                ...   \n",
       "323   2021/12/05 5:31:31 PM GMT+5:30     Sanskar garg      2000320120151   \n",
       "324   2021/12/05 8:58:57 PM GMT+5:30    Sumit Jaiswal      2000320120176   \n",
       "325  2021/12/06 10:45:56 AM GMT+5:30     Kapil Panwar      2000320120093   \n",
       "326   2021/12/06 5:43:48 PM GMT+5:30   Santosh Pandit      2000320120152   \n",
       "327  2021/12/07 12:09:26 PM GMT+5:30        Dev Tayal      2000320120070   \n",
       "\n",
       "                                                Branch  Current Year Gender  \\\n",
       "0                                                 CEIT             4   Male   \n",
       "1                                                 CEIT             4   Male   \n",
       "2                                                 CEIT             4   Male   \n",
       "3                                                 CEIT             3   Male   \n",
       "4    Computer Science( CS- AI/ML, CS - Data Science...             2   Male   \n",
       "..                                                 ...           ...    ...   \n",
       "323  Computer Science( CS- AI/ML, CS - Data Science...             2   Male   \n",
       "324  Computer Science( CS- AI/ML, CS - Data Science...             2   Male   \n",
       "325  Computer Science( CS- AI/ML, CS - Data Science...             2   Male   \n",
       "326  Computer Science( CS- AI/ML, CS - Data Science...             2   Male   \n",
       "327  Computer Science( CS- AI/ML, CS - Data Science...             2   Male   \n",
       "\n",
       "     Age Choose your Primary Technology Choose your Secondary Technology  \\\n",
       "0     20                      Front-End                   Cyber Security   \n",
       "1     21                      Front-End                    Back-End/ API   \n",
       "2     21                      Front-End                  IoS Development   \n",
       "3     20                      Front-End                         Database   \n",
       "4     20                      Front-End              Android Development   \n",
       "..   ...                            ...                              ...   \n",
       "323   19               Software Testing          Competitive Programming   \n",
       "324   20                     Blockchain                 Machine Learning   \n",
       "325   20                      Front-End                    Back-End/ API   \n",
       "326   19                      Front-End          Competitive Programming   \n",
       "327   17        Competitive Programming                        Front-End   \n",
       "\n",
       "    Primary Programming Language  ... What was your 12th percentage ?  \\\n",
       "0                            C++  ...                       71% - 80%   \n",
       "1                         Python  ...                       71% - 80%   \n",
       "2                            C++  ...                       81% - 90%   \n",
       "3                              C  ...                       81% - 90%   \n",
       "4                            C++  ...                       81% - 90%   \n",
       "..                           ...  ...                             ...   \n",
       "323                            C  ...                       81% - 90%   \n",
       "324                            C  ...                       71% - 80%   \n",
       "325                            C  ...                       71% - 80%   \n",
       "326                            C  ...                       81% - 90%   \n",
       "327                          C++  ...                      91% - 100%   \n",
       "\n",
       "     What is your B.Tech aggregate SGPA ?  What is your Personality Type ?  \\\n",
       "0                               7.1 - 8.0                                4   \n",
       "1                               8.1 - 9.0                                3   \n",
       "2                               8.1 - 9.0                                4   \n",
       "3                               7.1 - 8.0                                4   \n",
       "4                               8.1 - 9.0                                4   \n",
       "..                                    ...                              ...   \n",
       "323                             8.1 - 9.0                                4   \n",
       "324                             7.1 - 8.0                                3   \n",
       "325                             8.1 - 9.0                                1   \n",
       "326                             8.1 - 9.0                                3   \n",
       "327                            9.1 - 10.0                                5   \n",
       "\n",
       "    What is your behavior ?  How you take your decisions ?  \\\n",
       "0                          4                             3   \n",
       "1                          5                             1   \n",
       "2                          5                             2   \n",
       "3                          4                             4   \n",
       "4                          5                             3   \n",
       "..                       ...                           ...   \n",
       "323                        5                             5   \n",
       "324                        3                             3   \n",
       "325                        4                             3   \n",
       "326                        4                             3   \n",
       "327                        3                             1   \n",
       "\n",
       "    How easily can you adapt changes ?  Your approach towards life ?  \\\n",
       "0                                    3                             3   \n",
       "1                                    5                             1   \n",
       "2                                    5                             2   \n",
       "3                                    3                             4   \n",
       "4                                    5                             2   \n",
       "..                                 ...                           ...   \n",
       "323                                  4                             4   \n",
       "324                                  3                             3   \n",
       "325                                  3                             3   \n",
       "326                                  3                             3   \n",
       "327                                  2                             3   \n",
       "\n",
       "     Additional Interests.  Are you preparing for any exam ?  \\\n",
       "0                Designing                                No   \n",
       "1            None of Above                                No   \n",
       "2                   Sports                                No   \n",
       "3                   Sports                                No   \n",
       "4                Designing                              UPSC   \n",
       "..                     ...                               ...   \n",
       "323                 Sports                                No   \n",
       "324          None of Above                                No   \n",
       "325          None of Above                              GATE   \n",
       "326          None of Above                                No   \n",
       "327                 Sports                                No   \n",
       "\n",
       "     With what type of person do you want to be in contact ?  \n",
       "0        Person with same personality traits as yours.        \n",
       "1        Person with same personality traits as yours.        \n",
       "2        Person with same personality traits as yours.        \n",
       "3        Person with same personality traits as yours.        \n",
       "4        Person with same personality traits as yours.        \n",
       "..                                                 ...        \n",
       "323  Person with opposite personality traits as yours.        \n",
       "324  Person with opposite personality traits as yours.        \n",
       "325  Person with opposite personality traits as yours.        \n",
       "326      Person with same personality traits as yours.        \n",
       "327  Person with opposite personality traits as yours.        \n",
       "\n",
       "[328 rows x 24 columns]"
      ]
     },
     "execution_count": 3,
     "metadata": {},
     "output_type": "execute_result"
    }
   ],
   "source": [
    "df"
   ]
  },
  {
   "cell_type": "code",
   "execution_count": 4,
   "metadata": {},
   "outputs": [
    {
     "data": {
      "text/html": [
       "<div>\n",
       "<style scoped>\n",
       "    .dataframe tbody tr th:only-of-type {\n",
       "        vertical-align: middle;\n",
       "    }\n",
       "\n",
       "    .dataframe tbody tr th {\n",
       "        vertical-align: top;\n",
       "    }\n",
       "\n",
       "    .dataframe thead th {\n",
       "        text-align: right;\n",
       "    }\n",
       "</style>\n",
       "<table border=\"1\" class=\"dataframe\">\n",
       "  <thead>\n",
       "    <tr style=\"text-align: right;\">\n",
       "      <th></th>\n",
       "      <th>Timestamp</th>\n",
       "      <th>Your Name</th>\n",
       "      <th>University Roll No</th>\n",
       "      <th>Branch</th>\n",
       "      <th>Current Year</th>\n",
       "      <th>Gender</th>\n",
       "      <th>Age</th>\n",
       "      <th>Choose your Primary Technology</th>\n",
       "      <th>Choose your Secondary Technology</th>\n",
       "      <th>Primary Programming Language</th>\n",
       "      <th>...</th>\n",
       "      <th>What was your 12th percentage ?</th>\n",
       "      <th>What is your B.Tech aggregate SGPA ?</th>\n",
       "      <th>What is your Personality Type ?</th>\n",
       "      <th>What is your behavior ?</th>\n",
       "      <th>How you take your decisions ?</th>\n",
       "      <th>How easily can you adapt changes ?</th>\n",
       "      <th>Your approach towards life ?</th>\n",
       "      <th>Additional Interests.</th>\n",
       "      <th>Are you preparing for any exam ?</th>\n",
       "      <th>With what type of person do you want to be in contact ?</th>\n",
       "    </tr>\n",
       "  </thead>\n",
       "  <tbody>\n",
       "    <tr>\n",
       "      <th>0</th>\n",
       "      <td>2021/11/25 11:20:41 AM GMT+5:30</td>\n",
       "      <td>Naman Chaudhary</td>\n",
       "      <td>1803211033</td>\n",
       "      <td>CEIT</td>\n",
       "      <td>4</td>\n",
       "      <td>Male</td>\n",
       "      <td>20</td>\n",
       "      <td>Front-End</td>\n",
       "      <td>Cyber Security</td>\n",
       "      <td>C++</td>\n",
       "      <td>...</td>\n",
       "      <td>71% - 80%</td>\n",
       "      <td>7.1 - 8.0</td>\n",
       "      <td>4</td>\n",
       "      <td>4</td>\n",
       "      <td>3</td>\n",
       "      <td>3</td>\n",
       "      <td>3</td>\n",
       "      <td>Designing</td>\n",
       "      <td>No</td>\n",
       "      <td>Person with same personality traits as yours.</td>\n",
       "    </tr>\n",
       "    <tr>\n",
       "      <th>1</th>\n",
       "      <td>2021/11/25 11:20:49 AM GMT+5:30</td>\n",
       "      <td>Utsav Mehrotra</td>\n",
       "      <td>1803211058</td>\n",
       "      <td>CEIT</td>\n",
       "      <td>4</td>\n",
       "      <td>Male</td>\n",
       "      <td>21</td>\n",
       "      <td>Front-End</td>\n",
       "      <td>Back-End/ API</td>\n",
       "      <td>Python</td>\n",
       "      <td>...</td>\n",
       "      <td>71% - 80%</td>\n",
       "      <td>8.1 - 9.0</td>\n",
       "      <td>3</td>\n",
       "      <td>5</td>\n",
       "      <td>1</td>\n",
       "      <td>5</td>\n",
       "      <td>1</td>\n",
       "      <td>None of Above</td>\n",
       "      <td>No</td>\n",
       "      <td>Person with same personality traits as yours.</td>\n",
       "    </tr>\n",
       "    <tr>\n",
       "      <th>2</th>\n",
       "      <td>2021/11/25 11:21:07 AM GMT+5:30</td>\n",
       "      <td>Akshat Atray</td>\n",
       "      <td>1803211003</td>\n",
       "      <td>CEIT</td>\n",
       "      <td>4</td>\n",
       "      <td>Male</td>\n",
       "      <td>21</td>\n",
       "      <td>Front-End</td>\n",
       "      <td>IoS Development</td>\n",
       "      <td>C++</td>\n",
       "      <td>...</td>\n",
       "      <td>81% - 90%</td>\n",
       "      <td>8.1 - 9.0</td>\n",
       "      <td>4</td>\n",
       "      <td>5</td>\n",
       "      <td>2</td>\n",
       "      <td>5</td>\n",
       "      <td>2</td>\n",
       "      <td>Sports</td>\n",
       "      <td>No</td>\n",
       "      <td>Person with same personality traits as yours.</td>\n",
       "    </tr>\n",
       "    <tr>\n",
       "      <th>3</th>\n",
       "      <td>2021/11/25 11:21:09 AM GMT+5:30</td>\n",
       "      <td>Shivam Sharma</td>\n",
       "      <td>1900321290059</td>\n",
       "      <td>CEIT</td>\n",
       "      <td>3</td>\n",
       "      <td>Male</td>\n",
       "      <td>20</td>\n",
       "      <td>Front-End</td>\n",
       "      <td>Database</td>\n",
       "      <td>C</td>\n",
       "      <td>...</td>\n",
       "      <td>81% - 90%</td>\n",
       "      <td>7.1 - 8.0</td>\n",
       "      <td>4</td>\n",
       "      <td>4</td>\n",
       "      <td>4</td>\n",
       "      <td>3</td>\n",
       "      <td>4</td>\n",
       "      <td>Sports</td>\n",
       "      <td>No</td>\n",
       "      <td>Person with same personality traits as yours.</td>\n",
       "    </tr>\n",
       "    <tr>\n",
       "      <th>4</th>\n",
       "      <td>2021/11/25 11:22:16 AM GMT+5:30</td>\n",
       "      <td>Aditya saini</td>\n",
       "      <td>2000321530010</td>\n",
       "      <td>Computer Science( CS- AI/ML, CS - Data Science...</td>\n",
       "      <td>2</td>\n",
       "      <td>Male</td>\n",
       "      <td>20</td>\n",
       "      <td>Front-End</td>\n",
       "      <td>Android Development</td>\n",
       "      <td>C++</td>\n",
       "      <td>...</td>\n",
       "      <td>81% - 90%</td>\n",
       "      <td>8.1 - 9.0</td>\n",
       "      <td>4</td>\n",
       "      <td>5</td>\n",
       "      <td>3</td>\n",
       "      <td>5</td>\n",
       "      <td>2</td>\n",
       "      <td>Designing</td>\n",
       "      <td>UPSC</td>\n",
       "      <td>Person with same personality traits as yours.</td>\n",
       "    </tr>\n",
       "    <tr>\n",
       "      <th>...</th>\n",
       "      <td>...</td>\n",
       "      <td>...</td>\n",
       "      <td>...</td>\n",
       "      <td>...</td>\n",
       "      <td>...</td>\n",
       "      <td>...</td>\n",
       "      <td>...</td>\n",
       "      <td>...</td>\n",
       "      <td>...</td>\n",
       "      <td>...</td>\n",
       "      <td>...</td>\n",
       "      <td>...</td>\n",
       "      <td>...</td>\n",
       "      <td>...</td>\n",
       "      <td>...</td>\n",
       "      <td>...</td>\n",
       "      <td>...</td>\n",
       "      <td>...</td>\n",
       "      <td>...</td>\n",
       "      <td>...</td>\n",
       "      <td>...</td>\n",
       "    </tr>\n",
       "    <tr>\n",
       "      <th>323</th>\n",
       "      <td>2021/12/05 5:31:31 PM GMT+5:30</td>\n",
       "      <td>Sanskar garg</td>\n",
       "      <td>2000320120151</td>\n",
       "      <td>Computer Science( CS- AI/ML, CS - Data Science...</td>\n",
       "      <td>2</td>\n",
       "      <td>Male</td>\n",
       "      <td>19</td>\n",
       "      <td>Software Testing</td>\n",
       "      <td>Competitive Programming</td>\n",
       "      <td>C</td>\n",
       "      <td>...</td>\n",
       "      <td>81% - 90%</td>\n",
       "      <td>8.1 - 9.0</td>\n",
       "      <td>4</td>\n",
       "      <td>5</td>\n",
       "      <td>5</td>\n",
       "      <td>4</td>\n",
       "      <td>4</td>\n",
       "      <td>Sports</td>\n",
       "      <td>No</td>\n",
       "      <td>Person with opposite personality traits as yours.</td>\n",
       "    </tr>\n",
       "    <tr>\n",
       "      <th>324</th>\n",
       "      <td>2021/12/05 8:58:57 PM GMT+5:30</td>\n",
       "      <td>Sumit Jaiswal</td>\n",
       "      <td>2000320120176</td>\n",
       "      <td>Computer Science( CS- AI/ML, CS - Data Science...</td>\n",
       "      <td>2</td>\n",
       "      <td>Male</td>\n",
       "      <td>20</td>\n",
       "      <td>Blockchain</td>\n",
       "      <td>Machine Learning</td>\n",
       "      <td>C</td>\n",
       "      <td>...</td>\n",
       "      <td>71% - 80%</td>\n",
       "      <td>7.1 - 8.0</td>\n",
       "      <td>3</td>\n",
       "      <td>3</td>\n",
       "      <td>3</td>\n",
       "      <td>3</td>\n",
       "      <td>3</td>\n",
       "      <td>None of Above</td>\n",
       "      <td>No</td>\n",
       "      <td>Person with opposite personality traits as yours.</td>\n",
       "    </tr>\n",
       "    <tr>\n",
       "      <th>325</th>\n",
       "      <td>2021/12/06 10:45:56 AM GMT+5:30</td>\n",
       "      <td>Kapil Panwar</td>\n",
       "      <td>2000320120093</td>\n",
       "      <td>Computer Science( CS- AI/ML, CS - Data Science...</td>\n",
       "      <td>2</td>\n",
       "      <td>Male</td>\n",
       "      <td>20</td>\n",
       "      <td>Front-End</td>\n",
       "      <td>Back-End/ API</td>\n",
       "      <td>C</td>\n",
       "      <td>...</td>\n",
       "      <td>71% - 80%</td>\n",
       "      <td>8.1 - 9.0</td>\n",
       "      <td>1</td>\n",
       "      <td>4</td>\n",
       "      <td>3</td>\n",
       "      <td>3</td>\n",
       "      <td>3</td>\n",
       "      <td>None of Above</td>\n",
       "      <td>GATE</td>\n",
       "      <td>Person with opposite personality traits as yours.</td>\n",
       "    </tr>\n",
       "    <tr>\n",
       "      <th>326</th>\n",
       "      <td>2021/12/06 5:43:48 PM GMT+5:30</td>\n",
       "      <td>Santosh Pandit</td>\n",
       "      <td>2000320120152</td>\n",
       "      <td>Computer Science( CS- AI/ML, CS - Data Science...</td>\n",
       "      <td>2</td>\n",
       "      <td>Male</td>\n",
       "      <td>19</td>\n",
       "      <td>Front-End</td>\n",
       "      <td>Competitive Programming</td>\n",
       "      <td>C</td>\n",
       "      <td>...</td>\n",
       "      <td>81% - 90%</td>\n",
       "      <td>8.1 - 9.0</td>\n",
       "      <td>3</td>\n",
       "      <td>4</td>\n",
       "      <td>3</td>\n",
       "      <td>3</td>\n",
       "      <td>3</td>\n",
       "      <td>None of Above</td>\n",
       "      <td>No</td>\n",
       "      <td>Person with same personality traits as yours.</td>\n",
       "    </tr>\n",
       "    <tr>\n",
       "      <th>327</th>\n",
       "      <td>2021/12/07 12:09:26 PM GMT+5:30</td>\n",
       "      <td>Dev Tayal</td>\n",
       "      <td>2000320120070</td>\n",
       "      <td>Computer Science( CS- AI/ML, CS - Data Science...</td>\n",
       "      <td>2</td>\n",
       "      <td>Male</td>\n",
       "      <td>17</td>\n",
       "      <td>Competitive Programming</td>\n",
       "      <td>Front-End</td>\n",
       "      <td>C++</td>\n",
       "      <td>...</td>\n",
       "      <td>91% - 100%</td>\n",
       "      <td>9.1 - 10.0</td>\n",
       "      <td>5</td>\n",
       "      <td>3</td>\n",
       "      <td>1</td>\n",
       "      <td>2</td>\n",
       "      <td>3</td>\n",
       "      <td>Sports</td>\n",
       "      <td>No</td>\n",
       "      <td>Person with opposite personality traits as yours.</td>\n",
       "    </tr>\n",
       "  </tbody>\n",
       "</table>\n",
       "<p>327 rows × 24 columns</p>\n",
       "</div>"
      ],
      "text/plain": [
       "                           Timestamp        Your Name University Roll No  \\\n",
       "0    2021/11/25 11:20:41 AM GMT+5:30  Naman Chaudhary         1803211033   \n",
       "1    2021/11/25 11:20:49 AM GMT+5:30   Utsav Mehrotra         1803211058   \n",
       "2    2021/11/25 11:21:07 AM GMT+5:30     Akshat Atray         1803211003   \n",
       "3    2021/11/25 11:21:09 AM GMT+5:30    Shivam Sharma      1900321290059   \n",
       "4    2021/11/25 11:22:16 AM GMT+5:30     Aditya saini      2000321530010   \n",
       "..                               ...              ...                ...   \n",
       "323   2021/12/05 5:31:31 PM GMT+5:30     Sanskar garg      2000320120151   \n",
       "324   2021/12/05 8:58:57 PM GMT+5:30    Sumit Jaiswal      2000320120176   \n",
       "325  2021/12/06 10:45:56 AM GMT+5:30     Kapil Panwar      2000320120093   \n",
       "326   2021/12/06 5:43:48 PM GMT+5:30   Santosh Pandit      2000320120152   \n",
       "327  2021/12/07 12:09:26 PM GMT+5:30        Dev Tayal      2000320120070   \n",
       "\n",
       "                                                Branch  Current Year Gender  \\\n",
       "0                                                 CEIT             4   Male   \n",
       "1                                                 CEIT             4   Male   \n",
       "2                                                 CEIT             4   Male   \n",
       "3                                                 CEIT             3   Male   \n",
       "4    Computer Science( CS- AI/ML, CS - Data Science...             2   Male   \n",
       "..                                                 ...           ...    ...   \n",
       "323  Computer Science( CS- AI/ML, CS - Data Science...             2   Male   \n",
       "324  Computer Science( CS- AI/ML, CS - Data Science...             2   Male   \n",
       "325  Computer Science( CS- AI/ML, CS - Data Science...             2   Male   \n",
       "326  Computer Science( CS- AI/ML, CS - Data Science...             2   Male   \n",
       "327  Computer Science( CS- AI/ML, CS - Data Science...             2   Male   \n",
       "\n",
       "     Age Choose your Primary Technology Choose your Secondary Technology  \\\n",
       "0     20                      Front-End                   Cyber Security   \n",
       "1     21                      Front-End                    Back-End/ API   \n",
       "2     21                      Front-End                  IoS Development   \n",
       "3     20                      Front-End                         Database   \n",
       "4     20                      Front-End              Android Development   \n",
       "..   ...                            ...                              ...   \n",
       "323   19               Software Testing          Competitive Programming   \n",
       "324   20                     Blockchain                 Machine Learning   \n",
       "325   20                      Front-End                    Back-End/ API   \n",
       "326   19                      Front-End          Competitive Programming   \n",
       "327   17        Competitive Programming                        Front-End   \n",
       "\n",
       "    Primary Programming Language  ... What was your 12th percentage ?  \\\n",
       "0                            C++  ...                       71% - 80%   \n",
       "1                         Python  ...                       71% - 80%   \n",
       "2                            C++  ...                       81% - 90%   \n",
       "3                              C  ...                       81% - 90%   \n",
       "4                            C++  ...                       81% - 90%   \n",
       "..                           ...  ...                             ...   \n",
       "323                            C  ...                       81% - 90%   \n",
       "324                            C  ...                       71% - 80%   \n",
       "325                            C  ...                       71% - 80%   \n",
       "326                            C  ...                       81% - 90%   \n",
       "327                          C++  ...                      91% - 100%   \n",
       "\n",
       "     What is your B.Tech aggregate SGPA ?  What is your Personality Type ?  \\\n",
       "0                               7.1 - 8.0                                4   \n",
       "1                               8.1 - 9.0                                3   \n",
       "2                               8.1 - 9.0                                4   \n",
       "3                               7.1 - 8.0                                4   \n",
       "4                               8.1 - 9.0                                4   \n",
       "..                                    ...                              ...   \n",
       "323                             8.1 - 9.0                                4   \n",
       "324                             7.1 - 8.0                                3   \n",
       "325                             8.1 - 9.0                                1   \n",
       "326                             8.1 - 9.0                                3   \n",
       "327                            9.1 - 10.0                                5   \n",
       "\n",
       "    What is your behavior ?  How you take your decisions ?  \\\n",
       "0                          4                             3   \n",
       "1                          5                             1   \n",
       "2                          5                             2   \n",
       "3                          4                             4   \n",
       "4                          5                             3   \n",
       "..                       ...                           ...   \n",
       "323                        5                             5   \n",
       "324                        3                             3   \n",
       "325                        4                             3   \n",
       "326                        4                             3   \n",
       "327                        3                             1   \n",
       "\n",
       "    How easily can you adapt changes ?  Your approach towards life ?  \\\n",
       "0                                    3                             3   \n",
       "1                                    5                             1   \n",
       "2                                    5                             2   \n",
       "3                                    3                             4   \n",
       "4                                    5                             2   \n",
       "..                                 ...                           ...   \n",
       "323                                  4                             4   \n",
       "324                                  3                             3   \n",
       "325                                  3                             3   \n",
       "326                                  3                             3   \n",
       "327                                  2                             3   \n",
       "\n",
       "     Additional Interests.  Are you preparing for any exam ?  \\\n",
       "0                Designing                                No   \n",
       "1            None of Above                                No   \n",
       "2                   Sports                                No   \n",
       "3                   Sports                                No   \n",
       "4                Designing                              UPSC   \n",
       "..                     ...                               ...   \n",
       "323                 Sports                                No   \n",
       "324          None of Above                                No   \n",
       "325          None of Above                              GATE   \n",
       "326          None of Above                                No   \n",
       "327                 Sports                                No   \n",
       "\n",
       "     With what type of person do you want to be in contact ?  \n",
       "0        Person with same personality traits as yours.        \n",
       "1        Person with same personality traits as yours.        \n",
       "2        Person with same personality traits as yours.        \n",
       "3        Person with same personality traits as yours.        \n",
       "4        Person with same personality traits as yours.        \n",
       "..                                                 ...        \n",
       "323  Person with opposite personality traits as yours.        \n",
       "324  Person with opposite personality traits as yours.        \n",
       "325  Person with opposite personality traits as yours.        \n",
       "326      Person with same personality traits as yours.        \n",
       "327  Person with opposite personality traits as yours.        \n",
       "\n",
       "[327 rows x 24 columns]"
      ]
     },
     "execution_count": 4,
     "metadata": {},
     "output_type": "execute_result"
    }
   ],
   "source": [
    "df.drop(df.index[43])"
   ]
  },
  {
   "cell_type": "code",
   "execution_count": 5,
   "metadata": {},
   "outputs": [],
   "source": [
    "del df[\"Timestamp\"]"
   ]
  },
  {
   "cell_type": "code",
   "execution_count": 6,
   "metadata": {},
   "outputs": [
    {
     "data": {
      "text/html": [
       "<div>\n",
       "<style scoped>\n",
       "    .dataframe tbody tr th:only-of-type {\n",
       "        vertical-align: middle;\n",
       "    }\n",
       "\n",
       "    .dataframe tbody tr th {\n",
       "        vertical-align: top;\n",
       "    }\n",
       "\n",
       "    .dataframe thead th {\n",
       "        text-align: right;\n",
       "    }\n",
       "</style>\n",
       "<table border=\"1\" class=\"dataframe\">\n",
       "  <thead>\n",
       "    <tr style=\"text-align: right;\">\n",
       "      <th></th>\n",
       "      <th>Your Name</th>\n",
       "      <th>University Roll No</th>\n",
       "      <th>Branch</th>\n",
       "      <th>Current Year</th>\n",
       "      <th>Gender</th>\n",
       "      <th>Age</th>\n",
       "      <th>Choose your Primary Technology</th>\n",
       "      <th>Choose your Secondary Technology</th>\n",
       "      <th>Primary Programming Language</th>\n",
       "      <th>Secondary Programming Language</th>\n",
       "      <th>...</th>\n",
       "      <th>What was your 12th percentage ?</th>\n",
       "      <th>What is your B.Tech aggregate SGPA ?</th>\n",
       "      <th>What is your Personality Type ?</th>\n",
       "      <th>What is your behavior ?</th>\n",
       "      <th>How you take your decisions ?</th>\n",
       "      <th>How easily can you adapt changes ?</th>\n",
       "      <th>Your approach towards life ?</th>\n",
       "      <th>Additional Interests.</th>\n",
       "      <th>Are you preparing for any exam ?</th>\n",
       "      <th>With what type of person do you want to be in contact ?</th>\n",
       "    </tr>\n",
       "  </thead>\n",
       "  <tbody>\n",
       "    <tr>\n",
       "      <th>0</th>\n",
       "      <td>Naman Chaudhary</td>\n",
       "      <td>1803211033</td>\n",
       "      <td>CEIT</td>\n",
       "      <td>4</td>\n",
       "      <td>Male</td>\n",
       "      <td>20</td>\n",
       "      <td>Front-End</td>\n",
       "      <td>Cyber Security</td>\n",
       "      <td>C++</td>\n",
       "      <td>Python</td>\n",
       "      <td>...</td>\n",
       "      <td>71% - 80%</td>\n",
       "      <td>7.1 - 8.0</td>\n",
       "      <td>4</td>\n",
       "      <td>4</td>\n",
       "      <td>3</td>\n",
       "      <td>3</td>\n",
       "      <td>3</td>\n",
       "      <td>Designing</td>\n",
       "      <td>No</td>\n",
       "      <td>Person with same personality traits as yours.</td>\n",
       "    </tr>\n",
       "    <tr>\n",
       "      <th>1</th>\n",
       "      <td>Utsav Mehrotra</td>\n",
       "      <td>1803211058</td>\n",
       "      <td>CEIT</td>\n",
       "      <td>4</td>\n",
       "      <td>Male</td>\n",
       "      <td>21</td>\n",
       "      <td>Front-End</td>\n",
       "      <td>Back-End/ API</td>\n",
       "      <td>Python</td>\n",
       "      <td>C++</td>\n",
       "      <td>...</td>\n",
       "      <td>71% - 80%</td>\n",
       "      <td>8.1 - 9.0</td>\n",
       "      <td>3</td>\n",
       "      <td>5</td>\n",
       "      <td>1</td>\n",
       "      <td>5</td>\n",
       "      <td>1</td>\n",
       "      <td>None of Above</td>\n",
       "      <td>No</td>\n",
       "      <td>Person with same personality traits as yours.</td>\n",
       "    </tr>\n",
       "    <tr>\n",
       "      <th>2</th>\n",
       "      <td>Akshat Atray</td>\n",
       "      <td>1803211003</td>\n",
       "      <td>CEIT</td>\n",
       "      <td>4</td>\n",
       "      <td>Male</td>\n",
       "      <td>21</td>\n",
       "      <td>Front-End</td>\n",
       "      <td>IoS Development</td>\n",
       "      <td>C++</td>\n",
       "      <td>Python</td>\n",
       "      <td>...</td>\n",
       "      <td>81% - 90%</td>\n",
       "      <td>8.1 - 9.0</td>\n",
       "      <td>4</td>\n",
       "      <td>5</td>\n",
       "      <td>2</td>\n",
       "      <td>5</td>\n",
       "      <td>2</td>\n",
       "      <td>Sports</td>\n",
       "      <td>No</td>\n",
       "      <td>Person with same personality traits as yours.</td>\n",
       "    </tr>\n",
       "    <tr>\n",
       "      <th>3</th>\n",
       "      <td>Shivam Sharma</td>\n",
       "      <td>1900321290059</td>\n",
       "      <td>CEIT</td>\n",
       "      <td>3</td>\n",
       "      <td>Male</td>\n",
       "      <td>20</td>\n",
       "      <td>Front-End</td>\n",
       "      <td>Database</td>\n",
       "      <td>C</td>\n",
       "      <td>Python</td>\n",
       "      <td>...</td>\n",
       "      <td>81% - 90%</td>\n",
       "      <td>7.1 - 8.0</td>\n",
       "      <td>4</td>\n",
       "      <td>4</td>\n",
       "      <td>4</td>\n",
       "      <td>3</td>\n",
       "      <td>4</td>\n",
       "      <td>Sports</td>\n",
       "      <td>No</td>\n",
       "      <td>Person with same personality traits as yours.</td>\n",
       "    </tr>\n",
       "    <tr>\n",
       "      <th>4</th>\n",
       "      <td>Aditya saini</td>\n",
       "      <td>2000321530010</td>\n",
       "      <td>Computer Science( CS- AI/ML, CS - Data Science...</td>\n",
       "      <td>2</td>\n",
       "      <td>Male</td>\n",
       "      <td>20</td>\n",
       "      <td>Front-End</td>\n",
       "      <td>Android Development</td>\n",
       "      <td>C++</td>\n",
       "      <td>Python</td>\n",
       "      <td>...</td>\n",
       "      <td>81% - 90%</td>\n",
       "      <td>8.1 - 9.0</td>\n",
       "      <td>4</td>\n",
       "      <td>5</td>\n",
       "      <td>3</td>\n",
       "      <td>5</td>\n",
       "      <td>2</td>\n",
       "      <td>Designing</td>\n",
       "      <td>UPSC</td>\n",
       "      <td>Person with same personality traits as yours.</td>\n",
       "    </tr>\n",
       "  </tbody>\n",
       "</table>\n",
       "<p>5 rows × 23 columns</p>\n",
       "</div>"
      ],
      "text/plain": [
       "         Your Name University Roll No  \\\n",
       "0  Naman Chaudhary         1803211033   \n",
       "1   Utsav Mehrotra         1803211058   \n",
       "2     Akshat Atray         1803211003   \n",
       "3    Shivam Sharma      1900321290059   \n",
       "4     Aditya saini      2000321530010   \n",
       "\n",
       "                                              Branch  Current Year Gender  \\\n",
       "0                                               CEIT             4   Male   \n",
       "1                                               CEIT             4   Male   \n",
       "2                                               CEIT             4   Male   \n",
       "3                                               CEIT             3   Male   \n",
       "4  Computer Science( CS- AI/ML, CS - Data Science...             2   Male   \n",
       "\n",
       "   Age Choose your Primary Technology Choose your Secondary Technology  \\\n",
       "0   20                      Front-End                   Cyber Security   \n",
       "1   21                      Front-End                    Back-End/ API   \n",
       "2   21                      Front-End                  IoS Development   \n",
       "3   20                      Front-End                         Database   \n",
       "4   20                      Front-End              Android Development   \n",
       "\n",
       "  Primary Programming Language Secondary Programming Language  ...  \\\n",
       "0                          C++                         Python  ...   \n",
       "1                       Python                            C++  ...   \n",
       "2                          C++                         Python  ...   \n",
       "3                            C                         Python  ...   \n",
       "4                          C++                         Python  ...   \n",
       "\n",
       "   What was your 12th percentage ?  What is your B.Tech aggregate SGPA ?  \\\n",
       "0                        71% - 80%                             7.1 - 8.0   \n",
       "1                        71% - 80%                             8.1 - 9.0   \n",
       "2                        81% - 90%                             8.1 - 9.0   \n",
       "3                        81% - 90%                             7.1 - 8.0   \n",
       "4                        81% - 90%                             8.1 - 9.0   \n",
       "\n",
       "  What is your Personality Type ? What is your behavior ?   \\\n",
       "0                               4                        4   \n",
       "1                               3                        5   \n",
       "2                               4                        5   \n",
       "3                               4                        4   \n",
       "4                               4                        5   \n",
       "\n",
       "  How you take your decisions ?  How easily can you adapt changes ?  \\\n",
       "0                             3                                   3   \n",
       "1                             1                                   5   \n",
       "2                             2                                   5   \n",
       "3                             4                                   3   \n",
       "4                             3                                   5   \n",
       "\n",
       "   Your approach towards life ?  Additional Interests.  \\\n",
       "0                             3              Designing   \n",
       "1                             1          None of Above   \n",
       "2                             2                 Sports   \n",
       "3                             4                 Sports   \n",
       "4                             2              Designing   \n",
       "\n",
       "   Are you preparing for any exam ?  \\\n",
       "0                                No   \n",
       "1                                No   \n",
       "2                                No   \n",
       "3                                No   \n",
       "4                              UPSC   \n",
       "\n",
       "   With what type of person do you want to be in contact ?  \n",
       "0      Person with same personality traits as yours.        \n",
       "1      Person with same personality traits as yours.        \n",
       "2      Person with same personality traits as yours.        \n",
       "3      Person with same personality traits as yours.        \n",
       "4      Person with same personality traits as yours.        \n",
       "\n",
       "[5 rows x 23 columns]"
      ]
     },
     "execution_count": 6,
     "metadata": {},
     "output_type": "execute_result"
    }
   ],
   "source": [
    "df.head()"
   ]
  },
  {
   "cell_type": "code",
   "execution_count": 7,
   "metadata": {},
   "outputs": [],
   "source": [
    "df.columns=[\"name\",\"rollno\",\"branch\",\"year\",\"gender\",\"age\",\"pt\",\"st\",\"ppl\",\"spl\",\"c_rate\",\"w_rate\",\"certified\",\"12\",\"sgpa\",\"personality\",\"behaviour\",\"decison\",\"adaptablilty\",\"life\",\"hobby\",\"hstudy\",\"match\"]"
   ]
  },
  {
   "cell_type": "code",
   "execution_count": 8,
   "metadata": {},
   "outputs": [
    {
     "data": {
      "text/html": [
       "<div>\n",
       "<style scoped>\n",
       "    .dataframe tbody tr th:only-of-type {\n",
       "        vertical-align: middle;\n",
       "    }\n",
       "\n",
       "    .dataframe tbody tr th {\n",
       "        vertical-align: top;\n",
       "    }\n",
       "\n",
       "    .dataframe thead th {\n",
       "        text-align: right;\n",
       "    }\n",
       "</style>\n",
       "<table border=\"1\" class=\"dataframe\">\n",
       "  <thead>\n",
       "    <tr style=\"text-align: right;\">\n",
       "      <th></th>\n",
       "      <th>name</th>\n",
       "      <th>rollno</th>\n",
       "      <th>branch</th>\n",
       "      <th>year</th>\n",
       "      <th>gender</th>\n",
       "      <th>age</th>\n",
       "      <th>pt</th>\n",
       "      <th>st</th>\n",
       "      <th>ppl</th>\n",
       "      <th>spl</th>\n",
       "      <th>...</th>\n",
       "      <th>12</th>\n",
       "      <th>sgpa</th>\n",
       "      <th>personality</th>\n",
       "      <th>behaviour</th>\n",
       "      <th>decison</th>\n",
       "      <th>adaptablilty</th>\n",
       "      <th>life</th>\n",
       "      <th>hobby</th>\n",
       "      <th>hstudy</th>\n",
       "      <th>match</th>\n",
       "    </tr>\n",
       "  </thead>\n",
       "  <tbody>\n",
       "    <tr>\n",
       "      <th>0</th>\n",
       "      <td>Naman Chaudhary</td>\n",
       "      <td>1803211033</td>\n",
       "      <td>CEIT</td>\n",
       "      <td>4</td>\n",
       "      <td>Male</td>\n",
       "      <td>20</td>\n",
       "      <td>Front-End</td>\n",
       "      <td>Cyber Security</td>\n",
       "      <td>C++</td>\n",
       "      <td>Python</td>\n",
       "      <td>...</td>\n",
       "      <td>71% - 80%</td>\n",
       "      <td>7.1 - 8.0</td>\n",
       "      <td>4</td>\n",
       "      <td>4</td>\n",
       "      <td>3</td>\n",
       "      <td>3</td>\n",
       "      <td>3</td>\n",
       "      <td>Designing</td>\n",
       "      <td>No</td>\n",
       "      <td>Person with same personality traits as yours.</td>\n",
       "    </tr>\n",
       "    <tr>\n",
       "      <th>1</th>\n",
       "      <td>Utsav Mehrotra</td>\n",
       "      <td>1803211058</td>\n",
       "      <td>CEIT</td>\n",
       "      <td>4</td>\n",
       "      <td>Male</td>\n",
       "      <td>21</td>\n",
       "      <td>Front-End</td>\n",
       "      <td>Back-End/ API</td>\n",
       "      <td>Python</td>\n",
       "      <td>C++</td>\n",
       "      <td>...</td>\n",
       "      <td>71% - 80%</td>\n",
       "      <td>8.1 - 9.0</td>\n",
       "      <td>3</td>\n",
       "      <td>5</td>\n",
       "      <td>1</td>\n",
       "      <td>5</td>\n",
       "      <td>1</td>\n",
       "      <td>None of Above</td>\n",
       "      <td>No</td>\n",
       "      <td>Person with same personality traits as yours.</td>\n",
       "    </tr>\n",
       "    <tr>\n",
       "      <th>2</th>\n",
       "      <td>Akshat Atray</td>\n",
       "      <td>1803211003</td>\n",
       "      <td>CEIT</td>\n",
       "      <td>4</td>\n",
       "      <td>Male</td>\n",
       "      <td>21</td>\n",
       "      <td>Front-End</td>\n",
       "      <td>IoS Development</td>\n",
       "      <td>C++</td>\n",
       "      <td>Python</td>\n",
       "      <td>...</td>\n",
       "      <td>81% - 90%</td>\n",
       "      <td>8.1 - 9.0</td>\n",
       "      <td>4</td>\n",
       "      <td>5</td>\n",
       "      <td>2</td>\n",
       "      <td>5</td>\n",
       "      <td>2</td>\n",
       "      <td>Sports</td>\n",
       "      <td>No</td>\n",
       "      <td>Person with same personality traits as yours.</td>\n",
       "    </tr>\n",
       "    <tr>\n",
       "      <th>3</th>\n",
       "      <td>Shivam Sharma</td>\n",
       "      <td>1900321290059</td>\n",
       "      <td>CEIT</td>\n",
       "      <td>3</td>\n",
       "      <td>Male</td>\n",
       "      <td>20</td>\n",
       "      <td>Front-End</td>\n",
       "      <td>Database</td>\n",
       "      <td>C</td>\n",
       "      <td>Python</td>\n",
       "      <td>...</td>\n",
       "      <td>81% - 90%</td>\n",
       "      <td>7.1 - 8.0</td>\n",
       "      <td>4</td>\n",
       "      <td>4</td>\n",
       "      <td>4</td>\n",
       "      <td>3</td>\n",
       "      <td>4</td>\n",
       "      <td>Sports</td>\n",
       "      <td>No</td>\n",
       "      <td>Person with same personality traits as yours.</td>\n",
       "    </tr>\n",
       "    <tr>\n",
       "      <th>4</th>\n",
       "      <td>Aditya saini</td>\n",
       "      <td>2000321530010</td>\n",
       "      <td>Computer Science( CS- AI/ML, CS - Data Science...</td>\n",
       "      <td>2</td>\n",
       "      <td>Male</td>\n",
       "      <td>20</td>\n",
       "      <td>Front-End</td>\n",
       "      <td>Android Development</td>\n",
       "      <td>C++</td>\n",
       "      <td>Python</td>\n",
       "      <td>...</td>\n",
       "      <td>81% - 90%</td>\n",
       "      <td>8.1 - 9.0</td>\n",
       "      <td>4</td>\n",
       "      <td>5</td>\n",
       "      <td>3</td>\n",
       "      <td>5</td>\n",
       "      <td>2</td>\n",
       "      <td>Designing</td>\n",
       "      <td>UPSC</td>\n",
       "      <td>Person with same personality traits as yours.</td>\n",
       "    </tr>\n",
       "  </tbody>\n",
       "</table>\n",
       "<p>5 rows × 23 columns</p>\n",
       "</div>"
      ],
      "text/plain": [
       "              name         rollno  \\\n",
       "0  Naman Chaudhary     1803211033   \n",
       "1   Utsav Mehrotra     1803211058   \n",
       "2     Akshat Atray     1803211003   \n",
       "3    Shivam Sharma  1900321290059   \n",
       "4     Aditya saini  2000321530010   \n",
       "\n",
       "                                              branch  year gender  age  \\\n",
       "0                                               CEIT     4   Male   20   \n",
       "1                                               CEIT     4   Male   21   \n",
       "2                                               CEIT     4   Male   21   \n",
       "3                                               CEIT     3   Male   20   \n",
       "4  Computer Science( CS- AI/ML, CS - Data Science...     2   Male   20   \n",
       "\n",
       "          pt                   st     ppl     spl  ...         12       sgpa  \\\n",
       "0  Front-End       Cyber Security     C++  Python  ...  71% - 80%  7.1 - 8.0   \n",
       "1  Front-End        Back-End/ API  Python     C++  ...  71% - 80%  8.1 - 9.0   \n",
       "2  Front-End      IoS Development     C++  Python  ...  81% - 90%  8.1 - 9.0   \n",
       "3  Front-End             Database       C  Python  ...  81% - 90%  7.1 - 8.0   \n",
       "4  Front-End  Android Development     C++  Python  ...  81% - 90%  8.1 - 9.0   \n",
       "\n",
       "  personality behaviour decison  adaptablilty  life          hobby  hstudy  \\\n",
       "0           4         4       3             3     3      Designing      No   \n",
       "1           3         5       1             5     1  None of Above      No   \n",
       "2           4         5       2             5     2         Sports      No   \n",
       "3           4         4       4             3     4         Sports      No   \n",
       "4           4         5       3             5     2      Designing    UPSC   \n",
       "\n",
       "                                           match  \n",
       "0  Person with same personality traits as yours.  \n",
       "1  Person with same personality traits as yours.  \n",
       "2  Person with same personality traits as yours.  \n",
       "3  Person with same personality traits as yours.  \n",
       "4  Person with same personality traits as yours.  \n",
       "\n",
       "[5 rows x 23 columns]"
      ]
     },
     "execution_count": 8,
     "metadata": {},
     "output_type": "execute_result"
    }
   ],
   "source": [
    "df.head()"
   ]
  },
  {
   "cell_type": "code",
   "execution_count": 9,
   "metadata": {},
   "outputs": [
    {
     "data": {
      "text/html": [
       "<div>\n",
       "<style scoped>\n",
       "    .dataframe tbody tr th:only-of-type {\n",
       "        vertical-align: middle;\n",
       "    }\n",
       "\n",
       "    .dataframe tbody tr th {\n",
       "        vertical-align: top;\n",
       "    }\n",
       "\n",
       "    .dataframe thead th {\n",
       "        text-align: right;\n",
       "    }\n",
       "</style>\n",
       "<table border=\"1\" class=\"dataframe\">\n",
       "  <thead>\n",
       "    <tr style=\"text-align: right;\">\n",
       "      <th></th>\n",
       "      <th>year</th>\n",
       "      <th>age</th>\n",
       "      <th>c_rate</th>\n",
       "      <th>w_rate</th>\n",
       "      <th>personality</th>\n",
       "      <th>behaviour</th>\n",
       "      <th>decison</th>\n",
       "      <th>adaptablilty</th>\n",
       "      <th>life</th>\n",
       "    </tr>\n",
       "  </thead>\n",
       "  <tbody>\n",
       "    <tr>\n",
       "      <th>count</th>\n",
       "      <td>328.000000</td>\n",
       "      <td>328.000000</td>\n",
       "      <td>328.000000</td>\n",
       "      <td>328.000000</td>\n",
       "      <td>328.000000</td>\n",
       "      <td>328.000000</td>\n",
       "      <td>328.000000</td>\n",
       "      <td>328.000000</td>\n",
       "      <td>328.000000</td>\n",
       "    </tr>\n",
       "    <tr>\n",
       "      <th>mean</th>\n",
       "      <td>2.381098</td>\n",
       "      <td>19.426829</td>\n",
       "      <td>2.850610</td>\n",
       "      <td>2.137195</td>\n",
       "      <td>3.268293</td>\n",
       "      <td>3.948171</td>\n",
       "      <td>2.582317</td>\n",
       "      <td>3.756098</td>\n",
       "      <td>2.801829</td>\n",
       "    </tr>\n",
       "    <tr>\n",
       "      <th>std</th>\n",
       "      <td>0.604172</td>\n",
       "      <td>1.046684</td>\n",
       "      <td>0.924819</td>\n",
       "      <td>1.101606</td>\n",
       "      <td>0.980529</td>\n",
       "      <td>0.842522</td>\n",
       "      <td>1.004238</td>\n",
       "      <td>0.922846</td>\n",
       "      <td>0.902119</td>\n",
       "    </tr>\n",
       "    <tr>\n",
       "      <th>min</th>\n",
       "      <td>2.000000</td>\n",
       "      <td>17.000000</td>\n",
       "      <td>1.000000</td>\n",
       "      <td>1.000000</td>\n",
       "      <td>1.000000</td>\n",
       "      <td>1.000000</td>\n",
       "      <td>1.000000</td>\n",
       "      <td>1.000000</td>\n",
       "      <td>1.000000</td>\n",
       "    </tr>\n",
       "    <tr>\n",
       "      <th>25%</th>\n",
       "      <td>2.000000</td>\n",
       "      <td>19.000000</td>\n",
       "      <td>2.000000</td>\n",
       "      <td>1.000000</td>\n",
       "      <td>3.000000</td>\n",
       "      <td>3.000000</td>\n",
       "      <td>2.000000</td>\n",
       "      <td>3.000000</td>\n",
       "      <td>2.000000</td>\n",
       "    </tr>\n",
       "    <tr>\n",
       "      <th>50%</th>\n",
       "      <td>2.000000</td>\n",
       "      <td>19.000000</td>\n",
       "      <td>3.000000</td>\n",
       "      <td>2.000000</td>\n",
       "      <td>3.000000</td>\n",
       "      <td>4.000000</td>\n",
       "      <td>3.000000</td>\n",
       "      <td>4.000000</td>\n",
       "      <td>3.000000</td>\n",
       "    </tr>\n",
       "    <tr>\n",
       "      <th>75%</th>\n",
       "      <td>3.000000</td>\n",
       "      <td>20.000000</td>\n",
       "      <td>3.000000</td>\n",
       "      <td>3.000000</td>\n",
       "      <td>4.000000</td>\n",
       "      <td>5.000000</td>\n",
       "      <td>3.000000</td>\n",
       "      <td>4.000000</td>\n",
       "      <td>3.000000</td>\n",
       "    </tr>\n",
       "    <tr>\n",
       "      <th>max</th>\n",
       "      <td>4.000000</td>\n",
       "      <td>23.000000</td>\n",
       "      <td>5.000000</td>\n",
       "      <td>5.000000</td>\n",
       "      <td>5.000000</td>\n",
       "      <td>5.000000</td>\n",
       "      <td>5.000000</td>\n",
       "      <td>5.000000</td>\n",
       "      <td>5.000000</td>\n",
       "    </tr>\n",
       "  </tbody>\n",
       "</table>\n",
       "</div>"
      ],
      "text/plain": [
       "             year         age      c_rate      w_rate  personality  \\\n",
       "count  328.000000  328.000000  328.000000  328.000000   328.000000   \n",
       "mean     2.381098   19.426829    2.850610    2.137195     3.268293   \n",
       "std      0.604172    1.046684    0.924819    1.101606     0.980529   \n",
       "min      2.000000   17.000000    1.000000    1.000000     1.000000   \n",
       "25%      2.000000   19.000000    2.000000    1.000000     3.000000   \n",
       "50%      2.000000   19.000000    3.000000    2.000000     3.000000   \n",
       "75%      3.000000   20.000000    3.000000    3.000000     4.000000   \n",
       "max      4.000000   23.000000    5.000000    5.000000     5.000000   \n",
       "\n",
       "        behaviour     decison  adaptablilty        life  \n",
       "count  328.000000  328.000000    328.000000  328.000000  \n",
       "mean     3.948171    2.582317      3.756098    2.801829  \n",
       "std      0.842522    1.004238      0.922846    0.902119  \n",
       "min      1.000000    1.000000      1.000000    1.000000  \n",
       "25%      3.000000    2.000000      3.000000    2.000000  \n",
       "50%      4.000000    3.000000      4.000000    3.000000  \n",
       "75%      5.000000    3.000000      4.000000    3.000000  \n",
       "max      5.000000    5.000000      5.000000    5.000000  "
      ]
     },
     "execution_count": 9,
     "metadata": {},
     "output_type": "execute_result"
    }
   ],
   "source": [
    "df.describe()"
   ]
  },
  {
   "cell_type": "code",
   "execution_count": 10,
   "metadata": {},
   "outputs": [
    {
     "data": {
      "text/plain": [
       "name            object\n",
       "rollno          object\n",
       "branch          object\n",
       "year             int64\n",
       "gender          object\n",
       "age              int64\n",
       "pt              object\n",
       "st              object\n",
       "ppl             object\n",
       "spl             object\n",
       "c_rate           int64\n",
       "w_rate           int64\n",
       "certified       object\n",
       "12              object\n",
       "sgpa            object\n",
       "personality      int64\n",
       "behaviour        int64\n",
       "decison          int64\n",
       "adaptablilty     int64\n",
       "life             int64\n",
       "hobby           object\n",
       "hstudy          object\n",
       "match           object\n",
       "dtype: object"
      ]
     },
     "execution_count": 10,
     "metadata": {},
     "output_type": "execute_result"
    }
   ],
   "source": [
    "df.dtypes"
   ]
  },
  {
   "cell_type": "code",
   "execution_count": 11,
   "metadata": {},
   "outputs": [],
   "source": [
    "def match(s):\n",
    "    if s==\"Person with same personality traits as yours.\":\n",
    "        return 1\n",
    "    else:\n",
    "        return 0"
   ]
  },
  {
   "cell_type": "code",
   "execution_count": 12,
   "metadata": {},
   "outputs": [],
   "source": [
    "df[\"match\"]=df.match.apply(match) "
   ]
  },
  {
   "cell_type": "code",
   "execution_count": 13,
   "metadata": {},
   "outputs": [
    {
     "data": {
      "text/plain": [
       "1    240\n",
       "0     88\n",
       "Name: match, dtype: int64"
      ]
     },
     "execution_count": 13,
     "metadata": {},
     "output_type": "execute_result"
    }
   ],
   "source": [
    "df[\"match\"].value_counts()"
   ]
  },
  {
   "cell_type": "code",
   "execution_count": 14,
   "metadata": {},
   "outputs": [
    {
     "data": {
      "text/plain": [
       "No      217\n",
       "GATE     66\n",
       "UPSC     26\n",
       "GRE      10\n",
       "CAT       8\n",
       "PCS       1\n",
       "Name: hstudy, dtype: int64"
      ]
     },
     "execution_count": 14,
     "metadata": {},
     "output_type": "execute_result"
    }
   ],
   "source": [
    "df[\"hstudy\"].value_counts()"
   ]
  },
  {
   "cell_type": "code",
   "execution_count": 15,
   "metadata": {},
   "outputs": [],
   "source": [
    "def hstudy(s):\n",
    "    if s==\"No\":\n",
    "        return 0\n",
    "    elif s==\"GATE\":\n",
    "        return 1\n",
    "    elif s==\"UPSC\":\n",
    "        return 2\n",
    "    elif s==\"GRE\":\n",
    "        return 3\n",
    "    elif s==\"CAT\":\n",
    "        return 4\n",
    "    elif s==\"PCS\":\n",
    "        return 5\n",
    "        "
   ]
  },
  {
   "cell_type": "code",
   "execution_count": 16,
   "metadata": {},
   "outputs": [],
   "source": [
    "df[\"hstudy\"] = df.hstudy.apply(hstudy)"
   ]
  },
  {
   "cell_type": "code",
   "execution_count": 17,
   "metadata": {},
   "outputs": [
    {
     "data": {
      "text/plain": [
       "0    217\n",
       "1     66\n",
       "2     26\n",
       "3     10\n",
       "4      8\n",
       "5      1\n",
       "Name: hstudy, dtype: int64"
      ]
     },
     "execution_count": 17,
     "metadata": {},
     "output_type": "execute_result"
    }
   ],
   "source": [
    "df[\"hstudy\"].value_counts()"
   ]
  },
  {
   "cell_type": "code",
   "execution_count": 18,
   "metadata": {},
   "outputs": [
    {
     "data": {
      "text/plain": [
       "Sports             155\n",
       "None of Above       61\n",
       "Arts and Crafts     29\n",
       "Dance               29\n",
       "Designing           28\n",
       "Singing             22\n",
       "Rapping              4\n",
       "Name: hobby, dtype: int64"
      ]
     },
     "execution_count": 18,
     "metadata": {},
     "output_type": "execute_result"
    }
   ],
   "source": [
    "df[\"hobby\"].value_counts()"
   ]
  },
  {
   "cell_type": "code",
   "execution_count": 19,
   "metadata": {},
   "outputs": [],
   "source": [
    "def hobby(s):\n",
    "    if s==\"Sports\":\n",
    "        return 0\n",
    "    elif s==\"None of Above\":\n",
    "        return 1\n",
    "    elif s==\"Arts and Crafts\":\n",
    "        return 2\n",
    "    elif s==\"Dance\":\n",
    "        return 3\n",
    "    elif s==\"Designing\":\n",
    "        return 4\n",
    "    elif s==\"Singing\":\n",
    "        return 5\n",
    "    elif s==\"Rapping\":\n",
    "        return 6\n",
    "    else:\n",
    "        return 7"
   ]
  },
  {
   "cell_type": "code",
   "execution_count": 20,
   "metadata": {},
   "outputs": [],
   "source": [
    "df[\"hobby\"]=df.hobby.apply(hobby)"
   ]
  },
  {
   "cell_type": "code",
   "execution_count": 21,
   "metadata": {},
   "outputs": [
    {
     "data": {
      "text/plain": [
       "0    155\n",
       "1     61\n",
       "3     29\n",
       "2     29\n",
       "4     28\n",
       "5     22\n",
       "6      4\n",
       "Name: hobby, dtype: int64"
      ]
     },
     "execution_count": 21,
     "metadata": {},
     "output_type": "execute_result"
    }
   ],
   "source": [
    "df[\"hobby\"].value_counts()"
   ]
  },
  {
   "cell_type": "code",
   "execution_count": 22,
   "metadata": {},
   "outputs": [
    {
     "data": {
      "text/plain": [
       "8.1 - 9.0     215\n",
       "7.1 - 8.0      63\n",
       "9.1 - 10.0     47\n",
       "6.1 - 7.0       3\n",
       "Name: sgpa, dtype: int64"
      ]
     },
     "execution_count": 22,
     "metadata": {},
     "output_type": "execute_result"
    }
   ],
   "source": [
    "df[\"sgpa\"].value_counts()"
   ]
  },
  {
   "cell_type": "code",
   "execution_count": 23,
   "metadata": {},
   "outputs": [],
   "source": [
    "def sgpa(s):\n",
    "    if s==\"9.1 - 10.0\":\n",
    "        return 1\n",
    "    elif s==\"8.1 - 9.0\":\n",
    "        return 2\n",
    "    elif s==\"7.1 - 8.0\":\n",
    "        return 3\n",
    "    elif s==\"6.1 - 7.0\":\n",
    "        return 4\n",
    "    else:\n",
    "        return 0"
   ]
  },
  {
   "cell_type": "code",
   "execution_count": 24,
   "metadata": {},
   "outputs": [],
   "source": [
    "df[\"sgpa\"]=df[\"sgpa\"].apply(sgpa)"
   ]
  },
  {
   "cell_type": "code",
   "execution_count": 25,
   "metadata": {},
   "outputs": [
    {
     "data": {
      "text/plain": [
       "2    215\n",
       "3     63\n",
       "1     47\n",
       "4      3\n",
       "Name: sgpa, dtype: int64"
      ]
     },
     "execution_count": 25,
     "metadata": {},
     "output_type": "execute_result"
    }
   ],
   "source": [
    "df[\"sgpa\"].value_counts()"
   ]
  },
  {
   "cell_type": "code",
   "execution_count": 26,
   "metadata": {},
   "outputs": [
    {
     "data": {
      "text/plain": [
       "No     236\n",
       "Yes     92\n",
       "Name: certified, dtype: int64"
      ]
     },
     "execution_count": 26,
     "metadata": {},
     "output_type": "execute_result"
    }
   ],
   "source": [
    "df[\"certified\"].value_counts()"
   ]
  },
  {
   "cell_type": "code",
   "execution_count": null,
   "metadata": {},
   "outputs": [],
   "source": []
  },
  {
   "cell_type": "code",
   "execution_count": 27,
   "metadata": {},
   "outputs": [],
   "source": [
    "def certify(s):\n",
    "    if s==\"Yes\":\n",
    "        return 1\n",
    "    else:\n",
    "        return 0"
   ]
  },
  {
   "cell_type": "code",
   "execution_count": 28,
   "metadata": {},
   "outputs": [],
   "source": [
    "df[\"certified\"] = df[\"certified\"].apply(certify)"
   ]
  },
  {
   "cell_type": "code",
   "execution_count": 29,
   "metadata": {},
   "outputs": [
    {
     "data": {
      "text/plain": [
       "0    236\n",
       "1     92\n",
       "Name: certified, dtype: int64"
      ]
     },
     "execution_count": 29,
     "metadata": {},
     "output_type": "execute_result"
    }
   ],
   "source": [
    "df[\"certified\"].value_counts()"
   ]
  },
  {
   "cell_type": "code",
   "execution_count": 30,
   "metadata": {},
   "outputs": [
    {
     "data": {
      "text/plain": [
       "81% - 90%     146\n",
       "71% - 80%      82\n",
       "91% - 100%     73\n",
       "61%  70%       25\n",
       "51% - 60%       1\n",
       "<=50%           1\n",
       "Name: 12, dtype: int64"
      ]
     },
     "execution_count": 30,
     "metadata": {},
     "output_type": "execute_result"
    }
   ],
   "source": [
    "df[\"12\"].value_counts()"
   ]
  },
  {
   "cell_type": "code",
   "execution_count": 31,
   "metadata": {},
   "outputs": [],
   "source": [
    "def grade(s):\n",
    "    if s==\"91% - 100%\":\n",
    "        return 1\n",
    "    elif s==\"81% - 90%\":\n",
    "        return 2\n",
    "    elif s==\"71% - 80%\":\n",
    "        return 3\n",
    "    elif s==\"61%  70%\":\n",
    "        return 4\n",
    "    elif s==\"51% - 60%\":\n",
    "        return 5\n",
    "    else:\n",
    "        return 0"
   ]
  },
  {
   "cell_type": "code",
   "execution_count": 32,
   "metadata": {},
   "outputs": [],
   "source": [
    "df[\"12\"]=df[\"12\"].apply(grade)"
   ]
  },
  {
   "cell_type": "code",
   "execution_count": 33,
   "metadata": {},
   "outputs": [
    {
     "data": {
      "text/plain": [
       "2    146\n",
       "3     82\n",
       "1     73\n",
       "4     25\n",
       "5      1\n",
       "0      1\n",
       "Name: 12, dtype: int64"
      ]
     },
     "execution_count": 33,
     "metadata": {},
     "output_type": "execute_result"
    }
   ],
   "source": [
    "df[\"12\"].value_counts()"
   ]
  },
  {
   "cell_type": "code",
   "execution_count": 34,
   "metadata": {},
   "outputs": [
    {
     "data": {
      "text/plain": [
       "C++       115\n",
       "C         100\n",
       "Python     85\n",
       "Java       28\n",
       "Name: ppl, dtype: int64"
      ]
     },
     "execution_count": 34,
     "metadata": {},
     "output_type": "execute_result"
    }
   ],
   "source": [
    "df[\"ppl\"].value_counts()"
   ]
  },
  {
   "cell_type": "code",
   "execution_count": 35,
   "metadata": {},
   "outputs": [],
   "source": [
    "def ppl(s):\n",
    "    if s==\"C++\":\n",
    "        return 1\n",
    "    elif s==\"C\":\n",
    "        return 2\n",
    "    elif s==\"Python\":\n",
    "        return 3\n",
    "    else:\n",
    "        return 0"
   ]
  },
  {
   "cell_type": "code",
   "execution_count": 36,
   "metadata": {},
   "outputs": [],
   "source": [
    "df[\"ppl\"] = df[\"ppl\"].apply(ppl)"
   ]
  },
  {
   "cell_type": "code",
   "execution_count": 37,
   "metadata": {},
   "outputs": [
    {
     "data": {
      "text/plain": [
       "1    115\n",
       "2    100\n",
       "3     85\n",
       "0     28\n",
       "Name: ppl, dtype: int64"
      ]
     },
     "execution_count": 37,
     "metadata": {},
     "output_type": "execute_result"
    }
   ],
   "source": [
    "df[\"ppl\"].value_counts()"
   ]
  },
  {
   "cell_type": "code",
   "execution_count": 38,
   "metadata": {},
   "outputs": [],
   "source": [
    "df[\"spl\"]=df[\"spl\"].apply(ppl)"
   ]
  },
  {
   "cell_type": "code",
   "execution_count": 39,
   "metadata": {},
   "outputs": [
    {
     "data": {
      "text/plain": [
       "Male      261\n",
       "Female     67\n",
       "Name: gender, dtype: int64"
      ]
     },
     "execution_count": 39,
     "metadata": {},
     "output_type": "execute_result"
    }
   ],
   "source": [
    "df[\"gender\"].value_counts()"
   ]
  },
  {
   "cell_type": "code",
   "execution_count": 40,
   "metadata": {},
   "outputs": [],
   "source": [
    "def gender(s):\n",
    "    if s==\"Male\":\n",
    "        return 1\n",
    "    else:\n",
    "        return 0"
   ]
  },
  {
   "cell_type": "code",
   "execution_count": 41,
   "metadata": {},
   "outputs": [],
   "source": [
    "df[\"gender\"] = df[\"gender\"].apply(gender)"
   ]
  },
  {
   "cell_type": "code",
   "execution_count": 42,
   "metadata": {},
   "outputs": [
    {
     "data": {
      "text/plain": [
       "1    261\n",
       "0     67\n",
       "Name: gender, dtype: int64"
      ]
     },
     "execution_count": 42,
     "metadata": {},
     "output_type": "execute_result"
    }
   ],
   "source": [
    "df[\"gender\"].value_counts()"
   ]
  },
  {
   "cell_type": "code",
   "execution_count": 43,
   "metadata": {},
   "outputs": [
    {
     "data": {
      "text/plain": [
       "Front-End                  86\n",
       "Machine Learning           67\n",
       "Competitive Programming    56\n",
       "Back-End/ API              35\n",
       "None of Above              21\n",
       "Android Development        20\n",
       "IOT                         7\n",
       "Database                    7\n",
       "Cyber Security              7\n",
       "Blockchain                  5\n",
       "Flutter                     5\n",
       "Software Testing            5\n",
       "IoS Development             4\n",
       "Cloud                       3\n",
       "Name: pt, dtype: int64"
      ]
     },
     "execution_count": 43,
     "metadata": {},
     "output_type": "execute_result"
    }
   ],
   "source": [
    "df[\"pt\"].value_counts()"
   ]
  },
  {
   "cell_type": "code",
   "execution_count": 44,
   "metadata": {},
   "outputs": [
    {
     "data": {
      "text/plain": [
       "Front-End                  57\n",
       "Back-End/ API              45\n",
       "Competitive Programming    42\n",
       "None of Above              37\n",
       "Machine Learning           36\n",
       "Android Development        27\n",
       "Database                   19\n",
       "Cyber Security             12\n",
       "Cloud                      11\n",
       "IOT                        11\n",
       "IoS Development            10\n",
       "Blockchain                  9\n",
       "Software Testing            8\n",
       "Flutter                     4\n",
       "Name: st, dtype: int64"
      ]
     },
     "execution_count": 44,
     "metadata": {},
     "output_type": "execute_result"
    }
   ],
   "source": [
    "df[\"st\"].value_counts()"
   ]
  },
  {
   "cell_type": "code",
   "execution_count": 45,
   "metadata": {},
   "outputs": [],
   "source": [
    "def pt(s):\n",
    "    if s==\"Front-End\":\n",
    "        return 1\n",
    "    elif s==\"Back-End/ API\":\n",
    "        return 2\n",
    "    elif s==\"Competitive Programming\":\n",
    "        return 3\n",
    "    elif s==\"None of Above\":\n",
    "        return 4\n",
    "    elif s==\"Machine Learning\":\n",
    "        return 5\n",
    "    elif s==\"Android Development\":\n",
    "        return 6\n",
    "    elif s==\"Database\":\n",
    "        return 7\n",
    "    elif s==\"Cyber Security\":\n",
    "        return 8\n",
    "    elif s==\"IOT\":\n",
    "        return 9\n",
    "    elif s==\"Cloud\":\n",
    "        return 10\n",
    "    elif s==\"IoS Development\":\n",
    "        return 11\n",
    "    elif s==\"Blockchain\":\n",
    "        return 12\n",
    "    elif s==\"Flutter\":\n",
    "        return 13\n",
    "    else:\n",
    "        return 14\n",
    "        "
   ]
  },
  {
   "cell_type": "code",
   "execution_count": 46,
   "metadata": {},
   "outputs": [],
   "source": [
    "df[\"pt\"] = df.pt.apply(pt)"
   ]
  },
  {
   "cell_type": "code",
   "execution_count": 47,
   "metadata": {},
   "outputs": [
    {
     "data": {
      "text/plain": [
       "1     86\n",
       "5     67\n",
       "3     56\n",
       "2     35\n",
       "4     21\n",
       "6     20\n",
       "9      7\n",
       "8      7\n",
       "7      7\n",
       "14     5\n",
       "13     5\n",
       "12     5\n",
       "11     4\n",
       "10     3\n",
       "Name: pt, dtype: int64"
      ]
     },
     "execution_count": 47,
     "metadata": {},
     "output_type": "execute_result"
    }
   ],
   "source": [
    "df[\"pt\"].value_counts()"
   ]
  },
  {
   "cell_type": "code",
   "execution_count": 48,
   "metadata": {},
   "outputs": [],
   "source": [
    "df[\"st\"] = df.st.apply(pt)"
   ]
  },
  {
   "cell_type": "code",
   "execution_count": 49,
   "metadata": {},
   "outputs": [
    {
     "data": {
      "text/plain": [
       "1     57\n",
       "2     45\n",
       "3     42\n",
       "4     37\n",
       "5     36\n",
       "6     27\n",
       "7     19\n",
       "8     12\n",
       "10    11\n",
       "9     11\n",
       "11    10\n",
       "12     9\n",
       "14     8\n",
       "13     4\n",
       "Name: st, dtype: int64"
      ]
     },
     "execution_count": 49,
     "metadata": {},
     "output_type": "execute_result"
    }
   ],
   "source": [
    "df[\"st\"].value_counts()"
   ]
  },
  {
   "cell_type": "code",
   "execution_count": 50,
   "metadata": {},
   "outputs": [
    {
     "data": {
      "text/html": [
       "<div>\n",
       "<style scoped>\n",
       "    .dataframe tbody tr th:only-of-type {\n",
       "        vertical-align: middle;\n",
       "    }\n",
       "\n",
       "    .dataframe tbody tr th {\n",
       "        vertical-align: top;\n",
       "    }\n",
       "\n",
       "    .dataframe thead th {\n",
       "        text-align: right;\n",
       "    }\n",
       "</style>\n",
       "<table border=\"1\" class=\"dataframe\">\n",
       "  <thead>\n",
       "    <tr style=\"text-align: right;\">\n",
       "      <th></th>\n",
       "      <th>year</th>\n",
       "      <th>gender</th>\n",
       "      <th>age</th>\n",
       "      <th>pt</th>\n",
       "      <th>st</th>\n",
       "      <th>ppl</th>\n",
       "      <th>spl</th>\n",
       "      <th>c_rate</th>\n",
       "      <th>w_rate</th>\n",
       "      <th>certified</th>\n",
       "      <th>12</th>\n",
       "      <th>sgpa</th>\n",
       "      <th>personality</th>\n",
       "      <th>behaviour</th>\n",
       "      <th>decison</th>\n",
       "      <th>adaptablilty</th>\n",
       "      <th>life</th>\n",
       "      <th>hobby</th>\n",
       "      <th>hstudy</th>\n",
       "      <th>match</th>\n",
       "    </tr>\n",
       "  </thead>\n",
       "  <tbody>\n",
       "    <tr>\n",
       "      <th>count</th>\n",
       "      <td>328.000000</td>\n",
       "      <td>328.000000</td>\n",
       "      <td>328.000000</td>\n",
       "      <td>328.000000</td>\n",
       "      <td>328.000000</td>\n",
       "      <td>328.000000</td>\n",
       "      <td>328.000000</td>\n",
       "      <td>328.000000</td>\n",
       "      <td>328.000000</td>\n",
       "      <td>328.000000</td>\n",
       "      <td>328.000000</td>\n",
       "      <td>328.000000</td>\n",
       "      <td>328.000000</td>\n",
       "      <td>328.000000</td>\n",
       "      <td>328.000000</td>\n",
       "      <td>328.000000</td>\n",
       "      <td>328.000000</td>\n",
       "      <td>328.000000</td>\n",
       "      <td>328.000000</td>\n",
       "      <td>328.000000</td>\n",
       "    </tr>\n",
       "    <tr>\n",
       "      <th>mean</th>\n",
       "      <td>2.381098</td>\n",
       "      <td>0.795732</td>\n",
       "      <td>19.426829</td>\n",
       "      <td>3.963415</td>\n",
       "      <td>4.826220</td>\n",
       "      <td>1.737805</td>\n",
       "      <td>2.128049</td>\n",
       "      <td>2.850610</td>\n",
       "      <td>2.137195</td>\n",
       "      <td>0.280488</td>\n",
       "      <td>2.182927</td>\n",
       "      <td>2.067073</td>\n",
       "      <td>3.268293</td>\n",
       "      <td>3.948171</td>\n",
       "      <td>2.582317</td>\n",
       "      <td>3.756098</td>\n",
       "      <td>2.801829</td>\n",
       "      <td>1.378049</td>\n",
       "      <td>0.564024</td>\n",
       "      <td>0.731707</td>\n",
       "    </tr>\n",
       "    <tr>\n",
       "      <th>std</th>\n",
       "      <td>0.604172</td>\n",
       "      <td>0.403782</td>\n",
       "      <td>1.046684</td>\n",
       "      <td>3.026671</td>\n",
       "      <td>3.444223</td>\n",
       "      <td>0.940836</td>\n",
       "      <td>1.041379</td>\n",
       "      <td>0.924819</td>\n",
       "      <td>1.101606</td>\n",
       "      <td>0.449924</td>\n",
       "      <td>0.886571</td>\n",
       "      <td>0.607105</td>\n",
       "      <td>0.980529</td>\n",
       "      <td>0.842522</td>\n",
       "      <td>1.004238</td>\n",
       "      <td>0.922846</td>\n",
       "      <td>0.902119</td>\n",
       "      <td>1.710841</td>\n",
       "      <td>0.971545</td>\n",
       "      <td>0.443748</td>\n",
       "    </tr>\n",
       "    <tr>\n",
       "      <th>min</th>\n",
       "      <td>2.000000</td>\n",
       "      <td>0.000000</td>\n",
       "      <td>17.000000</td>\n",
       "      <td>1.000000</td>\n",
       "      <td>1.000000</td>\n",
       "      <td>0.000000</td>\n",
       "      <td>0.000000</td>\n",
       "      <td>1.000000</td>\n",
       "      <td>1.000000</td>\n",
       "      <td>0.000000</td>\n",
       "      <td>0.000000</td>\n",
       "      <td>1.000000</td>\n",
       "      <td>1.000000</td>\n",
       "      <td>1.000000</td>\n",
       "      <td>1.000000</td>\n",
       "      <td>1.000000</td>\n",
       "      <td>1.000000</td>\n",
       "      <td>0.000000</td>\n",
       "      <td>0.000000</td>\n",
       "      <td>0.000000</td>\n",
       "    </tr>\n",
       "    <tr>\n",
       "      <th>25%</th>\n",
       "      <td>2.000000</td>\n",
       "      <td>1.000000</td>\n",
       "      <td>19.000000</td>\n",
       "      <td>1.000000</td>\n",
       "      <td>2.000000</td>\n",
       "      <td>1.000000</td>\n",
       "      <td>1.000000</td>\n",
       "      <td>2.000000</td>\n",
       "      <td>1.000000</td>\n",
       "      <td>0.000000</td>\n",
       "      <td>2.000000</td>\n",
       "      <td>2.000000</td>\n",
       "      <td>3.000000</td>\n",
       "      <td>3.000000</td>\n",
       "      <td>2.000000</td>\n",
       "      <td>3.000000</td>\n",
       "      <td>2.000000</td>\n",
       "      <td>0.000000</td>\n",
       "      <td>0.000000</td>\n",
       "      <td>0.000000</td>\n",
       "    </tr>\n",
       "    <tr>\n",
       "      <th>50%</th>\n",
       "      <td>2.000000</td>\n",
       "      <td>1.000000</td>\n",
       "      <td>19.000000</td>\n",
       "      <td>3.000000</td>\n",
       "      <td>4.000000</td>\n",
       "      <td>2.000000</td>\n",
       "      <td>3.000000</td>\n",
       "      <td>3.000000</td>\n",
       "      <td>2.000000</td>\n",
       "      <td>0.000000</td>\n",
       "      <td>2.000000</td>\n",
       "      <td>2.000000</td>\n",
       "      <td>3.000000</td>\n",
       "      <td>4.000000</td>\n",
       "      <td>3.000000</td>\n",
       "      <td>4.000000</td>\n",
       "      <td>3.000000</td>\n",
       "      <td>1.000000</td>\n",
       "      <td>0.000000</td>\n",
       "      <td>1.000000</td>\n",
       "    </tr>\n",
       "    <tr>\n",
       "      <th>75%</th>\n",
       "      <td>3.000000</td>\n",
       "      <td>1.000000</td>\n",
       "      <td>20.000000</td>\n",
       "      <td>5.000000</td>\n",
       "      <td>7.000000</td>\n",
       "      <td>3.000000</td>\n",
       "      <td>3.000000</td>\n",
       "      <td>3.000000</td>\n",
       "      <td>3.000000</td>\n",
       "      <td>1.000000</td>\n",
       "      <td>3.000000</td>\n",
       "      <td>2.000000</td>\n",
       "      <td>4.000000</td>\n",
       "      <td>5.000000</td>\n",
       "      <td>3.000000</td>\n",
       "      <td>4.000000</td>\n",
       "      <td>3.000000</td>\n",
       "      <td>3.000000</td>\n",
       "      <td>1.000000</td>\n",
       "      <td>1.000000</td>\n",
       "    </tr>\n",
       "    <tr>\n",
       "      <th>max</th>\n",
       "      <td>4.000000</td>\n",
       "      <td>1.000000</td>\n",
       "      <td>23.000000</td>\n",
       "      <td>14.000000</td>\n",
       "      <td>14.000000</td>\n",
       "      <td>3.000000</td>\n",
       "      <td>3.000000</td>\n",
       "      <td>5.000000</td>\n",
       "      <td>5.000000</td>\n",
       "      <td>1.000000</td>\n",
       "      <td>5.000000</td>\n",
       "      <td>4.000000</td>\n",
       "      <td>5.000000</td>\n",
       "      <td>5.000000</td>\n",
       "      <td>5.000000</td>\n",
       "      <td>5.000000</td>\n",
       "      <td>5.000000</td>\n",
       "      <td>6.000000</td>\n",
       "      <td>5.000000</td>\n",
       "      <td>1.000000</td>\n",
       "    </tr>\n",
       "  </tbody>\n",
       "</table>\n",
       "</div>"
      ],
      "text/plain": [
       "             year      gender         age          pt          st         ppl  \\\n",
       "count  328.000000  328.000000  328.000000  328.000000  328.000000  328.000000   \n",
       "mean     2.381098    0.795732   19.426829    3.963415    4.826220    1.737805   \n",
       "std      0.604172    0.403782    1.046684    3.026671    3.444223    0.940836   \n",
       "min      2.000000    0.000000   17.000000    1.000000    1.000000    0.000000   \n",
       "25%      2.000000    1.000000   19.000000    1.000000    2.000000    1.000000   \n",
       "50%      2.000000    1.000000   19.000000    3.000000    4.000000    2.000000   \n",
       "75%      3.000000    1.000000   20.000000    5.000000    7.000000    3.000000   \n",
       "max      4.000000    1.000000   23.000000   14.000000   14.000000    3.000000   \n",
       "\n",
       "              spl      c_rate      w_rate   certified          12        sgpa  \\\n",
       "count  328.000000  328.000000  328.000000  328.000000  328.000000  328.000000   \n",
       "mean     2.128049    2.850610    2.137195    0.280488    2.182927    2.067073   \n",
       "std      1.041379    0.924819    1.101606    0.449924    0.886571    0.607105   \n",
       "min      0.000000    1.000000    1.000000    0.000000    0.000000    1.000000   \n",
       "25%      1.000000    2.000000    1.000000    0.000000    2.000000    2.000000   \n",
       "50%      3.000000    3.000000    2.000000    0.000000    2.000000    2.000000   \n",
       "75%      3.000000    3.000000    3.000000    1.000000    3.000000    2.000000   \n",
       "max      3.000000    5.000000    5.000000    1.000000    5.000000    4.000000   \n",
       "\n",
       "       personality   behaviour     decison  adaptablilty        life  \\\n",
       "count   328.000000  328.000000  328.000000    328.000000  328.000000   \n",
       "mean      3.268293    3.948171    2.582317      3.756098    2.801829   \n",
       "std       0.980529    0.842522    1.004238      0.922846    0.902119   \n",
       "min       1.000000    1.000000    1.000000      1.000000    1.000000   \n",
       "25%       3.000000    3.000000    2.000000      3.000000    2.000000   \n",
       "50%       3.000000    4.000000    3.000000      4.000000    3.000000   \n",
       "75%       4.000000    5.000000    3.000000      4.000000    3.000000   \n",
       "max       5.000000    5.000000    5.000000      5.000000    5.000000   \n",
       "\n",
       "            hobby      hstudy       match  \n",
       "count  328.000000  328.000000  328.000000  \n",
       "mean     1.378049    0.564024    0.731707  \n",
       "std      1.710841    0.971545    0.443748  \n",
       "min      0.000000    0.000000    0.000000  \n",
       "25%      0.000000    0.000000    0.000000  \n",
       "50%      1.000000    0.000000    1.000000  \n",
       "75%      3.000000    1.000000    1.000000  \n",
       "max      6.000000    5.000000    1.000000  "
      ]
     },
     "execution_count": 50,
     "metadata": {},
     "output_type": "execute_result"
    }
   ],
   "source": [
    "df.describe()"
   ]
  },
  {
   "cell_type": "code",
   "execution_count": 51,
   "metadata": {},
   "outputs": [
    {
     "data": {
      "text/html": [
       "<div>\n",
       "<style scoped>\n",
       "    .dataframe tbody tr th:only-of-type {\n",
       "        vertical-align: middle;\n",
       "    }\n",
       "\n",
       "    .dataframe tbody tr th {\n",
       "        vertical-align: top;\n",
       "    }\n",
       "\n",
       "    .dataframe thead th {\n",
       "        text-align: right;\n",
       "    }\n",
       "</style>\n",
       "<table border=\"1\" class=\"dataframe\">\n",
       "  <thead>\n",
       "    <tr style=\"text-align: right;\">\n",
       "      <th></th>\n",
       "      <th>name</th>\n",
       "      <th>rollno</th>\n",
       "      <th>branch</th>\n",
       "      <th>year</th>\n",
       "      <th>gender</th>\n",
       "      <th>age</th>\n",
       "      <th>pt</th>\n",
       "      <th>st</th>\n",
       "      <th>ppl</th>\n",
       "      <th>spl</th>\n",
       "      <th>...</th>\n",
       "      <th>12</th>\n",
       "      <th>sgpa</th>\n",
       "      <th>personality</th>\n",
       "      <th>behaviour</th>\n",
       "      <th>decison</th>\n",
       "      <th>adaptablilty</th>\n",
       "      <th>life</th>\n",
       "      <th>hobby</th>\n",
       "      <th>hstudy</th>\n",
       "      <th>match</th>\n",
       "    </tr>\n",
       "  </thead>\n",
       "  <tbody>\n",
       "    <tr>\n",
       "      <th>0</th>\n",
       "      <td>Naman Chaudhary</td>\n",
       "      <td>1803211033</td>\n",
       "      <td>CEIT</td>\n",
       "      <td>4</td>\n",
       "      <td>1</td>\n",
       "      <td>20</td>\n",
       "      <td>1</td>\n",
       "      <td>8</td>\n",
       "      <td>1</td>\n",
       "      <td>3</td>\n",
       "      <td>...</td>\n",
       "      <td>3</td>\n",
       "      <td>3</td>\n",
       "      <td>4</td>\n",
       "      <td>4</td>\n",
       "      <td>3</td>\n",
       "      <td>3</td>\n",
       "      <td>3</td>\n",
       "      <td>4</td>\n",
       "      <td>0</td>\n",
       "      <td>1</td>\n",
       "    </tr>\n",
       "    <tr>\n",
       "      <th>1</th>\n",
       "      <td>Utsav Mehrotra</td>\n",
       "      <td>1803211058</td>\n",
       "      <td>CEIT</td>\n",
       "      <td>4</td>\n",
       "      <td>1</td>\n",
       "      <td>21</td>\n",
       "      <td>1</td>\n",
       "      <td>2</td>\n",
       "      <td>3</td>\n",
       "      <td>1</td>\n",
       "      <td>...</td>\n",
       "      <td>3</td>\n",
       "      <td>2</td>\n",
       "      <td>3</td>\n",
       "      <td>5</td>\n",
       "      <td>1</td>\n",
       "      <td>5</td>\n",
       "      <td>1</td>\n",
       "      <td>1</td>\n",
       "      <td>0</td>\n",
       "      <td>1</td>\n",
       "    </tr>\n",
       "    <tr>\n",
       "      <th>2</th>\n",
       "      <td>Akshat Atray</td>\n",
       "      <td>1803211003</td>\n",
       "      <td>CEIT</td>\n",
       "      <td>4</td>\n",
       "      <td>1</td>\n",
       "      <td>21</td>\n",
       "      <td>1</td>\n",
       "      <td>11</td>\n",
       "      <td>1</td>\n",
       "      <td>3</td>\n",
       "      <td>...</td>\n",
       "      <td>2</td>\n",
       "      <td>2</td>\n",
       "      <td>4</td>\n",
       "      <td>5</td>\n",
       "      <td>2</td>\n",
       "      <td>5</td>\n",
       "      <td>2</td>\n",
       "      <td>0</td>\n",
       "      <td>0</td>\n",
       "      <td>1</td>\n",
       "    </tr>\n",
       "    <tr>\n",
       "      <th>3</th>\n",
       "      <td>Shivam Sharma</td>\n",
       "      <td>1900321290059</td>\n",
       "      <td>CEIT</td>\n",
       "      <td>3</td>\n",
       "      <td>1</td>\n",
       "      <td>20</td>\n",
       "      <td>1</td>\n",
       "      <td>7</td>\n",
       "      <td>2</td>\n",
       "      <td>3</td>\n",
       "      <td>...</td>\n",
       "      <td>2</td>\n",
       "      <td>3</td>\n",
       "      <td>4</td>\n",
       "      <td>4</td>\n",
       "      <td>4</td>\n",
       "      <td>3</td>\n",
       "      <td>4</td>\n",
       "      <td>0</td>\n",
       "      <td>0</td>\n",
       "      <td>1</td>\n",
       "    </tr>\n",
       "    <tr>\n",
       "      <th>4</th>\n",
       "      <td>Aditya saini</td>\n",
       "      <td>2000321530010</td>\n",
       "      <td>Computer Science( CS- AI/ML, CS - Data Science...</td>\n",
       "      <td>2</td>\n",
       "      <td>1</td>\n",
       "      <td>20</td>\n",
       "      <td>1</td>\n",
       "      <td>6</td>\n",
       "      <td>1</td>\n",
       "      <td>3</td>\n",
       "      <td>...</td>\n",
       "      <td>2</td>\n",
       "      <td>2</td>\n",
       "      <td>4</td>\n",
       "      <td>5</td>\n",
       "      <td>3</td>\n",
       "      <td>5</td>\n",
       "      <td>2</td>\n",
       "      <td>4</td>\n",
       "      <td>2</td>\n",
       "      <td>1</td>\n",
       "    </tr>\n",
       "  </tbody>\n",
       "</table>\n",
       "<p>5 rows × 23 columns</p>\n",
       "</div>"
      ],
      "text/plain": [
       "              name         rollno  \\\n",
       "0  Naman Chaudhary     1803211033   \n",
       "1   Utsav Mehrotra     1803211058   \n",
       "2     Akshat Atray     1803211003   \n",
       "3    Shivam Sharma  1900321290059   \n",
       "4     Aditya saini  2000321530010   \n",
       "\n",
       "                                              branch  year  gender  age  pt  \\\n",
       "0                                               CEIT     4       1   20   1   \n",
       "1                                               CEIT     4       1   21   1   \n",
       "2                                               CEIT     4       1   21   1   \n",
       "3                                               CEIT     3       1   20   1   \n",
       "4  Computer Science( CS- AI/ML, CS - Data Science...     2       1   20   1   \n",
       "\n",
       "   st  ppl  spl  ...  12  sgpa  personality  behaviour  decison  adaptablilty  \\\n",
       "0   8    1    3  ...   3     3            4          4        3             3   \n",
       "1   2    3    1  ...   3     2            3          5        1             5   \n",
       "2  11    1    3  ...   2     2            4          5        2             5   \n",
       "3   7    2    3  ...   2     3            4          4        4             3   \n",
       "4   6    1    3  ...   2     2            4          5        3             5   \n",
       "\n",
       "   life  hobby  hstudy  match  \n",
       "0     3      4       0      1  \n",
       "1     1      1       0      1  \n",
       "2     2      0       0      1  \n",
       "3     4      0       0      1  \n",
       "4     2      4       2      1  \n",
       "\n",
       "[5 rows x 23 columns]"
      ]
     },
     "execution_count": 51,
     "metadata": {},
     "output_type": "execute_result"
    }
   ],
   "source": [
    "df.head()"
   ]
  },
  {
   "cell_type": "code",
   "execution_count": 52,
   "metadata": {},
   "outputs": [
    {
     "data": {
      "text/plain": [
       "19    136\n",
       "20     95\n",
       "18     48\n",
       "21     31\n",
       "22     11\n",
       "17      5\n",
       "23      2\n",
       "Name: age, dtype: int64"
      ]
     },
     "execution_count": 52,
     "metadata": {},
     "output_type": "execute_result"
    }
   ],
   "source": [
    "df[\"age\"].value_counts()"
   ]
  },
  {
   "cell_type": "code",
   "execution_count": 53,
   "metadata": {},
   "outputs": [
    {
     "data": {
      "text/plain": [
       "2    224\n",
       "3     83\n",
       "4     21\n",
       "Name: year, dtype: int64"
      ]
     },
     "execution_count": 53,
     "metadata": {},
     "output_type": "execute_result"
    }
   ],
   "source": [
    "df[\"year\"].value_counts()"
   ]
  },
  {
   "cell_type": "code",
   "execution_count": 54,
   "metadata": {},
   "outputs": [
    {
     "data": {
      "text/html": [
       "<div>\n",
       "<style scoped>\n",
       "    .dataframe tbody tr th:only-of-type {\n",
       "        vertical-align: middle;\n",
       "    }\n",
       "\n",
       "    .dataframe tbody tr th {\n",
       "        vertical-align: top;\n",
       "    }\n",
       "\n",
       "    .dataframe thead th {\n",
       "        text-align: right;\n",
       "    }\n",
       "</style>\n",
       "<table border=\"1\" class=\"dataframe\">\n",
       "  <thead>\n",
       "    <tr style=\"text-align: right;\">\n",
       "      <th></th>\n",
       "      <th>name</th>\n",
       "      <th>rollno</th>\n",
       "      <th>branch</th>\n",
       "      <th>year</th>\n",
       "      <th>gender</th>\n",
       "      <th>age</th>\n",
       "      <th>pt</th>\n",
       "      <th>st</th>\n",
       "      <th>ppl</th>\n",
       "      <th>spl</th>\n",
       "      <th>...</th>\n",
       "      <th>12</th>\n",
       "      <th>sgpa</th>\n",
       "      <th>personality</th>\n",
       "      <th>behaviour</th>\n",
       "      <th>decison</th>\n",
       "      <th>adaptablilty</th>\n",
       "      <th>life</th>\n",
       "      <th>hobby</th>\n",
       "      <th>hstudy</th>\n",
       "      <th>match</th>\n",
       "    </tr>\n",
       "  </thead>\n",
       "  <tbody>\n",
       "    <tr>\n",
       "      <th>0</th>\n",
       "      <td>Naman Chaudhary</td>\n",
       "      <td>1803211033</td>\n",
       "      <td>CEIT</td>\n",
       "      <td>4</td>\n",
       "      <td>1</td>\n",
       "      <td>20</td>\n",
       "      <td>1</td>\n",
       "      <td>8</td>\n",
       "      <td>1</td>\n",
       "      <td>3</td>\n",
       "      <td>...</td>\n",
       "      <td>3</td>\n",
       "      <td>3</td>\n",
       "      <td>4</td>\n",
       "      <td>4</td>\n",
       "      <td>3</td>\n",
       "      <td>3</td>\n",
       "      <td>3</td>\n",
       "      <td>4</td>\n",
       "      <td>0</td>\n",
       "      <td>1</td>\n",
       "    </tr>\n",
       "    <tr>\n",
       "      <th>1</th>\n",
       "      <td>Utsav Mehrotra</td>\n",
       "      <td>1803211058</td>\n",
       "      <td>CEIT</td>\n",
       "      <td>4</td>\n",
       "      <td>1</td>\n",
       "      <td>21</td>\n",
       "      <td>1</td>\n",
       "      <td>2</td>\n",
       "      <td>3</td>\n",
       "      <td>1</td>\n",
       "      <td>...</td>\n",
       "      <td>3</td>\n",
       "      <td>2</td>\n",
       "      <td>3</td>\n",
       "      <td>5</td>\n",
       "      <td>1</td>\n",
       "      <td>5</td>\n",
       "      <td>1</td>\n",
       "      <td>1</td>\n",
       "      <td>0</td>\n",
       "      <td>1</td>\n",
       "    </tr>\n",
       "    <tr>\n",
       "      <th>2</th>\n",
       "      <td>Akshat Atray</td>\n",
       "      <td>1803211003</td>\n",
       "      <td>CEIT</td>\n",
       "      <td>4</td>\n",
       "      <td>1</td>\n",
       "      <td>21</td>\n",
       "      <td>1</td>\n",
       "      <td>11</td>\n",
       "      <td>1</td>\n",
       "      <td>3</td>\n",
       "      <td>...</td>\n",
       "      <td>2</td>\n",
       "      <td>2</td>\n",
       "      <td>4</td>\n",
       "      <td>5</td>\n",
       "      <td>2</td>\n",
       "      <td>5</td>\n",
       "      <td>2</td>\n",
       "      <td>0</td>\n",
       "      <td>0</td>\n",
       "      <td>1</td>\n",
       "    </tr>\n",
       "    <tr>\n",
       "      <th>3</th>\n",
       "      <td>Shivam Sharma</td>\n",
       "      <td>1900321290059</td>\n",
       "      <td>CEIT</td>\n",
       "      <td>3</td>\n",
       "      <td>1</td>\n",
       "      <td>20</td>\n",
       "      <td>1</td>\n",
       "      <td>7</td>\n",
       "      <td>2</td>\n",
       "      <td>3</td>\n",
       "      <td>...</td>\n",
       "      <td>2</td>\n",
       "      <td>3</td>\n",
       "      <td>4</td>\n",
       "      <td>4</td>\n",
       "      <td>4</td>\n",
       "      <td>3</td>\n",
       "      <td>4</td>\n",
       "      <td>0</td>\n",
       "      <td>0</td>\n",
       "      <td>1</td>\n",
       "    </tr>\n",
       "    <tr>\n",
       "      <th>4</th>\n",
       "      <td>Aditya saini</td>\n",
       "      <td>2000321530010</td>\n",
       "      <td>Computer Science( CS- AI/ML, CS - Data Science...</td>\n",
       "      <td>2</td>\n",
       "      <td>1</td>\n",
       "      <td>20</td>\n",
       "      <td>1</td>\n",
       "      <td>6</td>\n",
       "      <td>1</td>\n",
       "      <td>3</td>\n",
       "      <td>...</td>\n",
       "      <td>2</td>\n",
       "      <td>2</td>\n",
       "      <td>4</td>\n",
       "      <td>5</td>\n",
       "      <td>3</td>\n",
       "      <td>5</td>\n",
       "      <td>2</td>\n",
       "      <td>4</td>\n",
       "      <td>2</td>\n",
       "      <td>1</td>\n",
       "    </tr>\n",
       "    <tr>\n",
       "      <th>...</th>\n",
       "      <td>...</td>\n",
       "      <td>...</td>\n",
       "      <td>...</td>\n",
       "      <td>...</td>\n",
       "      <td>...</td>\n",
       "      <td>...</td>\n",
       "      <td>...</td>\n",
       "      <td>...</td>\n",
       "      <td>...</td>\n",
       "      <td>...</td>\n",
       "      <td>...</td>\n",
       "      <td>...</td>\n",
       "      <td>...</td>\n",
       "      <td>...</td>\n",
       "      <td>...</td>\n",
       "      <td>...</td>\n",
       "      <td>...</td>\n",
       "      <td>...</td>\n",
       "      <td>...</td>\n",
       "      <td>...</td>\n",
       "      <td>...</td>\n",
       "    </tr>\n",
       "    <tr>\n",
       "      <th>323</th>\n",
       "      <td>Sanskar garg</td>\n",
       "      <td>2000320120151</td>\n",
       "      <td>Computer Science( CS- AI/ML, CS - Data Science...</td>\n",
       "      <td>2</td>\n",
       "      <td>1</td>\n",
       "      <td>19</td>\n",
       "      <td>14</td>\n",
       "      <td>3</td>\n",
       "      <td>2</td>\n",
       "      <td>1</td>\n",
       "      <td>...</td>\n",
       "      <td>2</td>\n",
       "      <td>2</td>\n",
       "      <td>4</td>\n",
       "      <td>5</td>\n",
       "      <td>5</td>\n",
       "      <td>4</td>\n",
       "      <td>4</td>\n",
       "      <td>0</td>\n",
       "      <td>0</td>\n",
       "      <td>0</td>\n",
       "    </tr>\n",
       "    <tr>\n",
       "      <th>324</th>\n",
       "      <td>Sumit Jaiswal</td>\n",
       "      <td>2000320120176</td>\n",
       "      <td>Computer Science( CS- AI/ML, CS - Data Science...</td>\n",
       "      <td>2</td>\n",
       "      <td>1</td>\n",
       "      <td>20</td>\n",
       "      <td>12</td>\n",
       "      <td>5</td>\n",
       "      <td>2</td>\n",
       "      <td>1</td>\n",
       "      <td>...</td>\n",
       "      <td>3</td>\n",
       "      <td>3</td>\n",
       "      <td>3</td>\n",
       "      <td>3</td>\n",
       "      <td>3</td>\n",
       "      <td>3</td>\n",
       "      <td>3</td>\n",
       "      <td>1</td>\n",
       "      <td>0</td>\n",
       "      <td>0</td>\n",
       "    </tr>\n",
       "    <tr>\n",
       "      <th>325</th>\n",
       "      <td>Kapil Panwar</td>\n",
       "      <td>2000320120093</td>\n",
       "      <td>Computer Science( CS- AI/ML, CS - Data Science...</td>\n",
       "      <td>2</td>\n",
       "      <td>1</td>\n",
       "      <td>20</td>\n",
       "      <td>1</td>\n",
       "      <td>2</td>\n",
       "      <td>2</td>\n",
       "      <td>3</td>\n",
       "      <td>...</td>\n",
       "      <td>3</td>\n",
       "      <td>2</td>\n",
       "      <td>1</td>\n",
       "      <td>4</td>\n",
       "      <td>3</td>\n",
       "      <td>3</td>\n",
       "      <td>3</td>\n",
       "      <td>1</td>\n",
       "      <td>1</td>\n",
       "      <td>0</td>\n",
       "    </tr>\n",
       "    <tr>\n",
       "      <th>326</th>\n",
       "      <td>Santosh Pandit</td>\n",
       "      <td>2000320120152</td>\n",
       "      <td>Computer Science( CS- AI/ML, CS - Data Science...</td>\n",
       "      <td>2</td>\n",
       "      <td>1</td>\n",
       "      <td>19</td>\n",
       "      <td>1</td>\n",
       "      <td>3</td>\n",
       "      <td>2</td>\n",
       "      <td>3</td>\n",
       "      <td>...</td>\n",
       "      <td>2</td>\n",
       "      <td>2</td>\n",
       "      <td>3</td>\n",
       "      <td>4</td>\n",
       "      <td>3</td>\n",
       "      <td>3</td>\n",
       "      <td>3</td>\n",
       "      <td>1</td>\n",
       "      <td>0</td>\n",
       "      <td>1</td>\n",
       "    </tr>\n",
       "    <tr>\n",
       "      <th>327</th>\n",
       "      <td>Dev Tayal</td>\n",
       "      <td>2000320120070</td>\n",
       "      <td>Computer Science( CS- AI/ML, CS - Data Science...</td>\n",
       "      <td>2</td>\n",
       "      <td>1</td>\n",
       "      <td>17</td>\n",
       "      <td>3</td>\n",
       "      <td>1</td>\n",
       "      <td>1</td>\n",
       "      <td>3</td>\n",
       "      <td>...</td>\n",
       "      <td>1</td>\n",
       "      <td>1</td>\n",
       "      <td>5</td>\n",
       "      <td>3</td>\n",
       "      <td>1</td>\n",
       "      <td>2</td>\n",
       "      <td>3</td>\n",
       "      <td>0</td>\n",
       "      <td>0</td>\n",
       "      <td>0</td>\n",
       "    </tr>\n",
       "  </tbody>\n",
       "</table>\n",
       "<p>328 rows × 23 columns</p>\n",
       "</div>"
      ],
      "text/plain": [
       "                name         rollno  \\\n",
       "0    Naman Chaudhary     1803211033   \n",
       "1     Utsav Mehrotra     1803211058   \n",
       "2       Akshat Atray     1803211003   \n",
       "3      Shivam Sharma  1900321290059   \n",
       "4       Aditya saini  2000321530010   \n",
       "..               ...            ...   \n",
       "323     Sanskar garg  2000320120151   \n",
       "324    Sumit Jaiswal  2000320120176   \n",
       "325     Kapil Panwar  2000320120093   \n",
       "326   Santosh Pandit  2000320120152   \n",
       "327        Dev Tayal  2000320120070   \n",
       "\n",
       "                                                branch  year  gender  age  pt  \\\n",
       "0                                                 CEIT     4       1   20   1   \n",
       "1                                                 CEIT     4       1   21   1   \n",
       "2                                                 CEIT     4       1   21   1   \n",
       "3                                                 CEIT     3       1   20   1   \n",
       "4    Computer Science( CS- AI/ML, CS - Data Science...     2       1   20   1   \n",
       "..                                                 ...   ...     ...  ...  ..   \n",
       "323  Computer Science( CS- AI/ML, CS - Data Science...     2       1   19  14   \n",
       "324  Computer Science( CS- AI/ML, CS - Data Science...     2       1   20  12   \n",
       "325  Computer Science( CS- AI/ML, CS - Data Science...     2       1   20   1   \n",
       "326  Computer Science( CS- AI/ML, CS - Data Science...     2       1   19   1   \n",
       "327  Computer Science( CS- AI/ML, CS - Data Science...     2       1   17   3   \n",
       "\n",
       "     st  ppl  spl  ...  12  sgpa  personality  behaviour  decison  \\\n",
       "0     8    1    3  ...   3     3            4          4        3   \n",
       "1     2    3    1  ...   3     2            3          5        1   \n",
       "2    11    1    3  ...   2     2            4          5        2   \n",
       "3     7    2    3  ...   2     3            4          4        4   \n",
       "4     6    1    3  ...   2     2            4          5        3   \n",
       "..   ..  ...  ...  ...  ..   ...          ...        ...      ...   \n",
       "323   3    2    1  ...   2     2            4          5        5   \n",
       "324   5    2    1  ...   3     3            3          3        3   \n",
       "325   2    2    3  ...   3     2            1          4        3   \n",
       "326   3    2    3  ...   2     2            3          4        3   \n",
       "327   1    1    3  ...   1     1            5          3        1   \n",
       "\n",
       "     adaptablilty  life  hobby  hstudy  match  \n",
       "0               3     3      4       0      1  \n",
       "1               5     1      1       0      1  \n",
       "2               5     2      0       0      1  \n",
       "3               3     4      0       0      1  \n",
       "4               5     2      4       2      1  \n",
       "..            ...   ...    ...     ...    ...  \n",
       "323             4     4      0       0      0  \n",
       "324             3     3      1       0      0  \n",
       "325             3     3      1       1      0  \n",
       "326             3     3      1       0      1  \n",
       "327             2     3      0       0      0  \n",
       "\n",
       "[328 rows x 23 columns]"
      ]
     },
     "execution_count": 54,
     "metadata": {},
     "output_type": "execute_result"
    }
   ],
   "source": [
    "df"
   ]
  },
  {
   "cell_type": "code",
   "execution_count": 55,
   "metadata": {},
   "outputs": [],
   "source": [
    "features = df"
   ]
  },
  {
   "cell_type": "code",
   "execution_count": 56,
   "metadata": {},
   "outputs": [
    {
     "data": {
      "text/html": [
       "<div>\n",
       "<style scoped>\n",
       "    .dataframe tbody tr th:only-of-type {\n",
       "        vertical-align: middle;\n",
       "    }\n",
       "\n",
       "    .dataframe tbody tr th {\n",
       "        vertical-align: top;\n",
       "    }\n",
       "\n",
       "    .dataframe thead th {\n",
       "        text-align: right;\n",
       "    }\n",
       "</style>\n",
       "<table border=\"1\" class=\"dataframe\">\n",
       "  <thead>\n",
       "    <tr style=\"text-align: right;\">\n",
       "      <th></th>\n",
       "      <th>name</th>\n",
       "      <th>rollno</th>\n",
       "      <th>branch</th>\n",
       "      <th>year</th>\n",
       "      <th>gender</th>\n",
       "      <th>age</th>\n",
       "      <th>pt</th>\n",
       "      <th>st</th>\n",
       "      <th>ppl</th>\n",
       "      <th>spl</th>\n",
       "      <th>...</th>\n",
       "      <th>12</th>\n",
       "      <th>sgpa</th>\n",
       "      <th>personality</th>\n",
       "      <th>behaviour</th>\n",
       "      <th>decison</th>\n",
       "      <th>adaptablilty</th>\n",
       "      <th>life</th>\n",
       "      <th>hobby</th>\n",
       "      <th>hstudy</th>\n",
       "      <th>match</th>\n",
       "    </tr>\n",
       "  </thead>\n",
       "  <tbody>\n",
       "    <tr>\n",
       "      <th>0</th>\n",
       "      <td>Naman Chaudhary</td>\n",
       "      <td>1803211033</td>\n",
       "      <td>CEIT</td>\n",
       "      <td>4</td>\n",
       "      <td>1</td>\n",
       "      <td>20</td>\n",
       "      <td>1</td>\n",
       "      <td>8</td>\n",
       "      <td>1</td>\n",
       "      <td>3</td>\n",
       "      <td>...</td>\n",
       "      <td>3</td>\n",
       "      <td>3</td>\n",
       "      <td>4</td>\n",
       "      <td>4</td>\n",
       "      <td>3</td>\n",
       "      <td>3</td>\n",
       "      <td>3</td>\n",
       "      <td>4</td>\n",
       "      <td>0</td>\n",
       "      <td>1</td>\n",
       "    </tr>\n",
       "    <tr>\n",
       "      <th>1</th>\n",
       "      <td>Utsav Mehrotra</td>\n",
       "      <td>1803211058</td>\n",
       "      <td>CEIT</td>\n",
       "      <td>4</td>\n",
       "      <td>1</td>\n",
       "      <td>21</td>\n",
       "      <td>1</td>\n",
       "      <td>2</td>\n",
       "      <td>3</td>\n",
       "      <td>1</td>\n",
       "      <td>...</td>\n",
       "      <td>3</td>\n",
       "      <td>2</td>\n",
       "      <td>3</td>\n",
       "      <td>5</td>\n",
       "      <td>1</td>\n",
       "      <td>5</td>\n",
       "      <td>1</td>\n",
       "      <td>1</td>\n",
       "      <td>0</td>\n",
       "      <td>1</td>\n",
       "    </tr>\n",
       "    <tr>\n",
       "      <th>2</th>\n",
       "      <td>Akshat Atray</td>\n",
       "      <td>1803211003</td>\n",
       "      <td>CEIT</td>\n",
       "      <td>4</td>\n",
       "      <td>1</td>\n",
       "      <td>21</td>\n",
       "      <td>1</td>\n",
       "      <td>11</td>\n",
       "      <td>1</td>\n",
       "      <td>3</td>\n",
       "      <td>...</td>\n",
       "      <td>2</td>\n",
       "      <td>2</td>\n",
       "      <td>4</td>\n",
       "      <td>5</td>\n",
       "      <td>2</td>\n",
       "      <td>5</td>\n",
       "      <td>2</td>\n",
       "      <td>0</td>\n",
       "      <td>0</td>\n",
       "      <td>1</td>\n",
       "    </tr>\n",
       "    <tr>\n",
       "      <th>3</th>\n",
       "      <td>Shivam Sharma</td>\n",
       "      <td>1900321290059</td>\n",
       "      <td>CEIT</td>\n",
       "      <td>3</td>\n",
       "      <td>1</td>\n",
       "      <td>20</td>\n",
       "      <td>1</td>\n",
       "      <td>7</td>\n",
       "      <td>2</td>\n",
       "      <td>3</td>\n",
       "      <td>...</td>\n",
       "      <td>2</td>\n",
       "      <td>3</td>\n",
       "      <td>4</td>\n",
       "      <td>4</td>\n",
       "      <td>4</td>\n",
       "      <td>3</td>\n",
       "      <td>4</td>\n",
       "      <td>0</td>\n",
       "      <td>0</td>\n",
       "      <td>1</td>\n",
       "    </tr>\n",
       "    <tr>\n",
       "      <th>4</th>\n",
       "      <td>Aditya saini</td>\n",
       "      <td>2000321530010</td>\n",
       "      <td>Computer Science( CS- AI/ML, CS - Data Science...</td>\n",
       "      <td>2</td>\n",
       "      <td>1</td>\n",
       "      <td>20</td>\n",
       "      <td>1</td>\n",
       "      <td>6</td>\n",
       "      <td>1</td>\n",
       "      <td>3</td>\n",
       "      <td>...</td>\n",
       "      <td>2</td>\n",
       "      <td>2</td>\n",
       "      <td>4</td>\n",
       "      <td>5</td>\n",
       "      <td>3</td>\n",
       "      <td>5</td>\n",
       "      <td>2</td>\n",
       "      <td>4</td>\n",
       "      <td>2</td>\n",
       "      <td>1</td>\n",
       "    </tr>\n",
       "    <tr>\n",
       "      <th>...</th>\n",
       "      <td>...</td>\n",
       "      <td>...</td>\n",
       "      <td>...</td>\n",
       "      <td>...</td>\n",
       "      <td>...</td>\n",
       "      <td>...</td>\n",
       "      <td>...</td>\n",
       "      <td>...</td>\n",
       "      <td>...</td>\n",
       "      <td>...</td>\n",
       "      <td>...</td>\n",
       "      <td>...</td>\n",
       "      <td>...</td>\n",
       "      <td>...</td>\n",
       "      <td>...</td>\n",
       "      <td>...</td>\n",
       "      <td>...</td>\n",
       "      <td>...</td>\n",
       "      <td>...</td>\n",
       "      <td>...</td>\n",
       "      <td>...</td>\n",
       "    </tr>\n",
       "    <tr>\n",
       "      <th>323</th>\n",
       "      <td>Sanskar garg</td>\n",
       "      <td>2000320120151</td>\n",
       "      <td>Computer Science( CS- AI/ML, CS - Data Science...</td>\n",
       "      <td>2</td>\n",
       "      <td>1</td>\n",
       "      <td>19</td>\n",
       "      <td>14</td>\n",
       "      <td>3</td>\n",
       "      <td>2</td>\n",
       "      <td>1</td>\n",
       "      <td>...</td>\n",
       "      <td>2</td>\n",
       "      <td>2</td>\n",
       "      <td>4</td>\n",
       "      <td>5</td>\n",
       "      <td>5</td>\n",
       "      <td>4</td>\n",
       "      <td>4</td>\n",
       "      <td>0</td>\n",
       "      <td>0</td>\n",
       "      <td>0</td>\n",
       "    </tr>\n",
       "    <tr>\n",
       "      <th>324</th>\n",
       "      <td>Sumit Jaiswal</td>\n",
       "      <td>2000320120176</td>\n",
       "      <td>Computer Science( CS- AI/ML, CS - Data Science...</td>\n",
       "      <td>2</td>\n",
       "      <td>1</td>\n",
       "      <td>20</td>\n",
       "      <td>12</td>\n",
       "      <td>5</td>\n",
       "      <td>2</td>\n",
       "      <td>1</td>\n",
       "      <td>...</td>\n",
       "      <td>3</td>\n",
       "      <td>3</td>\n",
       "      <td>3</td>\n",
       "      <td>3</td>\n",
       "      <td>3</td>\n",
       "      <td>3</td>\n",
       "      <td>3</td>\n",
       "      <td>1</td>\n",
       "      <td>0</td>\n",
       "      <td>0</td>\n",
       "    </tr>\n",
       "    <tr>\n",
       "      <th>325</th>\n",
       "      <td>Kapil Panwar</td>\n",
       "      <td>2000320120093</td>\n",
       "      <td>Computer Science( CS- AI/ML, CS - Data Science...</td>\n",
       "      <td>2</td>\n",
       "      <td>1</td>\n",
       "      <td>20</td>\n",
       "      <td>1</td>\n",
       "      <td>2</td>\n",
       "      <td>2</td>\n",
       "      <td>3</td>\n",
       "      <td>...</td>\n",
       "      <td>3</td>\n",
       "      <td>2</td>\n",
       "      <td>1</td>\n",
       "      <td>4</td>\n",
       "      <td>3</td>\n",
       "      <td>3</td>\n",
       "      <td>3</td>\n",
       "      <td>1</td>\n",
       "      <td>1</td>\n",
       "      <td>0</td>\n",
       "    </tr>\n",
       "    <tr>\n",
       "      <th>326</th>\n",
       "      <td>Santosh Pandit</td>\n",
       "      <td>2000320120152</td>\n",
       "      <td>Computer Science( CS- AI/ML, CS - Data Science...</td>\n",
       "      <td>2</td>\n",
       "      <td>1</td>\n",
       "      <td>19</td>\n",
       "      <td>1</td>\n",
       "      <td>3</td>\n",
       "      <td>2</td>\n",
       "      <td>3</td>\n",
       "      <td>...</td>\n",
       "      <td>2</td>\n",
       "      <td>2</td>\n",
       "      <td>3</td>\n",
       "      <td>4</td>\n",
       "      <td>3</td>\n",
       "      <td>3</td>\n",
       "      <td>3</td>\n",
       "      <td>1</td>\n",
       "      <td>0</td>\n",
       "      <td>1</td>\n",
       "    </tr>\n",
       "    <tr>\n",
       "      <th>327</th>\n",
       "      <td>Dev Tayal</td>\n",
       "      <td>2000320120070</td>\n",
       "      <td>Computer Science( CS- AI/ML, CS - Data Science...</td>\n",
       "      <td>2</td>\n",
       "      <td>1</td>\n",
       "      <td>17</td>\n",
       "      <td>3</td>\n",
       "      <td>1</td>\n",
       "      <td>1</td>\n",
       "      <td>3</td>\n",
       "      <td>...</td>\n",
       "      <td>1</td>\n",
       "      <td>1</td>\n",
       "      <td>5</td>\n",
       "      <td>3</td>\n",
       "      <td>1</td>\n",
       "      <td>2</td>\n",
       "      <td>3</td>\n",
       "      <td>0</td>\n",
       "      <td>0</td>\n",
       "      <td>0</td>\n",
       "    </tr>\n",
       "  </tbody>\n",
       "</table>\n",
       "<p>328 rows × 23 columns</p>\n",
       "</div>"
      ],
      "text/plain": [
       "                name         rollno  \\\n",
       "0    Naman Chaudhary     1803211033   \n",
       "1     Utsav Mehrotra     1803211058   \n",
       "2       Akshat Atray     1803211003   \n",
       "3      Shivam Sharma  1900321290059   \n",
       "4       Aditya saini  2000321530010   \n",
       "..               ...            ...   \n",
       "323     Sanskar garg  2000320120151   \n",
       "324    Sumit Jaiswal  2000320120176   \n",
       "325     Kapil Panwar  2000320120093   \n",
       "326   Santosh Pandit  2000320120152   \n",
       "327        Dev Tayal  2000320120070   \n",
       "\n",
       "                                                branch  year  gender  age  pt  \\\n",
       "0                                                 CEIT     4       1   20   1   \n",
       "1                                                 CEIT     4       1   21   1   \n",
       "2                                                 CEIT     4       1   21   1   \n",
       "3                                                 CEIT     3       1   20   1   \n",
       "4    Computer Science( CS- AI/ML, CS - Data Science...     2       1   20   1   \n",
       "..                                                 ...   ...     ...  ...  ..   \n",
       "323  Computer Science( CS- AI/ML, CS - Data Science...     2       1   19  14   \n",
       "324  Computer Science( CS- AI/ML, CS - Data Science...     2       1   20  12   \n",
       "325  Computer Science( CS- AI/ML, CS - Data Science...     2       1   20   1   \n",
       "326  Computer Science( CS- AI/ML, CS - Data Science...     2       1   19   1   \n",
       "327  Computer Science( CS- AI/ML, CS - Data Science...     2       1   17   3   \n",
       "\n",
       "     st  ppl  spl  ...  12  sgpa  personality  behaviour  decison  \\\n",
       "0     8    1    3  ...   3     3            4          4        3   \n",
       "1     2    3    1  ...   3     2            3          5        1   \n",
       "2    11    1    3  ...   2     2            4          5        2   \n",
       "3     7    2    3  ...   2     3            4          4        4   \n",
       "4     6    1    3  ...   2     2            4          5        3   \n",
       "..   ..  ...  ...  ...  ..   ...          ...        ...      ...   \n",
       "323   3    2    1  ...   2     2            4          5        5   \n",
       "324   5    2    1  ...   3     3            3          3        3   \n",
       "325   2    2    3  ...   3     2            1          4        3   \n",
       "326   3    2    3  ...   2     2            3          4        3   \n",
       "327   1    1    3  ...   1     1            5          3        1   \n",
       "\n",
       "     adaptablilty  life  hobby  hstudy  match  \n",
       "0               3     3      4       0      1  \n",
       "1               5     1      1       0      1  \n",
       "2               5     2      0       0      1  \n",
       "3               3     4      0       0      1  \n",
       "4               5     2      4       2      1  \n",
       "..            ...   ...    ...     ...    ...  \n",
       "323             4     4      0       0      0  \n",
       "324             3     3      1       0      0  \n",
       "325             3     3      1       1      0  \n",
       "326             3     3      1       0      1  \n",
       "327             2     3      0       0      0  \n",
       "\n",
       "[328 rows x 23 columns]"
      ]
     },
     "execution_count": 56,
     "metadata": {},
     "output_type": "execute_result"
    }
   ],
   "source": [
    "features"
   ]
  },
  {
   "cell_type": "code",
   "execution_count": 57,
   "metadata": {},
   "outputs": [],
   "source": [
    "del features[\"rollno\"]"
   ]
  },
  {
   "cell_type": "code",
   "execution_count": 58,
   "metadata": {},
   "outputs": [
    {
     "data": {
      "text/html": [
       "<div>\n",
       "<style scoped>\n",
       "    .dataframe tbody tr th:only-of-type {\n",
       "        vertical-align: middle;\n",
       "    }\n",
       "\n",
       "    .dataframe tbody tr th {\n",
       "        vertical-align: top;\n",
       "    }\n",
       "\n",
       "    .dataframe thead th {\n",
       "        text-align: right;\n",
       "    }\n",
       "</style>\n",
       "<table border=\"1\" class=\"dataframe\">\n",
       "  <thead>\n",
       "    <tr style=\"text-align: right;\">\n",
       "      <th></th>\n",
       "      <th>name</th>\n",
       "      <th>branch</th>\n",
       "      <th>year</th>\n",
       "      <th>gender</th>\n",
       "      <th>age</th>\n",
       "      <th>pt</th>\n",
       "      <th>st</th>\n",
       "      <th>ppl</th>\n",
       "      <th>spl</th>\n",
       "      <th>c_rate</th>\n",
       "      <th>...</th>\n",
       "      <th>12</th>\n",
       "      <th>sgpa</th>\n",
       "      <th>personality</th>\n",
       "      <th>behaviour</th>\n",
       "      <th>decison</th>\n",
       "      <th>adaptablilty</th>\n",
       "      <th>life</th>\n",
       "      <th>hobby</th>\n",
       "      <th>hstudy</th>\n",
       "      <th>match</th>\n",
       "    </tr>\n",
       "  </thead>\n",
       "  <tbody>\n",
       "    <tr>\n",
       "      <th>0</th>\n",
       "      <td>Naman Chaudhary</td>\n",
       "      <td>CEIT</td>\n",
       "      <td>4</td>\n",
       "      <td>1</td>\n",
       "      <td>20</td>\n",
       "      <td>1</td>\n",
       "      <td>8</td>\n",
       "      <td>1</td>\n",
       "      <td>3</td>\n",
       "      <td>3</td>\n",
       "      <td>...</td>\n",
       "      <td>3</td>\n",
       "      <td>3</td>\n",
       "      <td>4</td>\n",
       "      <td>4</td>\n",
       "      <td>3</td>\n",
       "      <td>3</td>\n",
       "      <td>3</td>\n",
       "      <td>4</td>\n",
       "      <td>0</td>\n",
       "      <td>1</td>\n",
       "    </tr>\n",
       "    <tr>\n",
       "      <th>1</th>\n",
       "      <td>Utsav Mehrotra</td>\n",
       "      <td>CEIT</td>\n",
       "      <td>4</td>\n",
       "      <td>1</td>\n",
       "      <td>21</td>\n",
       "      <td>1</td>\n",
       "      <td>2</td>\n",
       "      <td>3</td>\n",
       "      <td>1</td>\n",
       "      <td>3</td>\n",
       "      <td>...</td>\n",
       "      <td>3</td>\n",
       "      <td>2</td>\n",
       "      <td>3</td>\n",
       "      <td>5</td>\n",
       "      <td>1</td>\n",
       "      <td>5</td>\n",
       "      <td>1</td>\n",
       "      <td>1</td>\n",
       "      <td>0</td>\n",
       "      <td>1</td>\n",
       "    </tr>\n",
       "    <tr>\n",
       "      <th>2</th>\n",
       "      <td>Akshat Atray</td>\n",
       "      <td>CEIT</td>\n",
       "      <td>4</td>\n",
       "      <td>1</td>\n",
       "      <td>21</td>\n",
       "      <td>1</td>\n",
       "      <td>11</td>\n",
       "      <td>1</td>\n",
       "      <td>3</td>\n",
       "      <td>4</td>\n",
       "      <td>...</td>\n",
       "      <td>2</td>\n",
       "      <td>2</td>\n",
       "      <td>4</td>\n",
       "      <td>5</td>\n",
       "      <td>2</td>\n",
       "      <td>5</td>\n",
       "      <td>2</td>\n",
       "      <td>0</td>\n",
       "      <td>0</td>\n",
       "      <td>1</td>\n",
       "    </tr>\n",
       "    <tr>\n",
       "      <th>3</th>\n",
       "      <td>Shivam Sharma</td>\n",
       "      <td>CEIT</td>\n",
       "      <td>3</td>\n",
       "      <td>1</td>\n",
       "      <td>20</td>\n",
       "      <td>1</td>\n",
       "      <td>7</td>\n",
       "      <td>2</td>\n",
       "      <td>3</td>\n",
       "      <td>2</td>\n",
       "      <td>...</td>\n",
       "      <td>2</td>\n",
       "      <td>3</td>\n",
       "      <td>4</td>\n",
       "      <td>4</td>\n",
       "      <td>4</td>\n",
       "      <td>3</td>\n",
       "      <td>4</td>\n",
       "      <td>0</td>\n",
       "      <td>0</td>\n",
       "      <td>1</td>\n",
       "    </tr>\n",
       "    <tr>\n",
       "      <th>4</th>\n",
       "      <td>Aditya saini</td>\n",
       "      <td>Computer Science( CS- AI/ML, CS - Data Science...</td>\n",
       "      <td>2</td>\n",
       "      <td>1</td>\n",
       "      <td>20</td>\n",
       "      <td>1</td>\n",
       "      <td>6</td>\n",
       "      <td>1</td>\n",
       "      <td>3</td>\n",
       "      <td>3</td>\n",
       "      <td>...</td>\n",
       "      <td>2</td>\n",
       "      <td>2</td>\n",
       "      <td>4</td>\n",
       "      <td>5</td>\n",
       "      <td>3</td>\n",
       "      <td>5</td>\n",
       "      <td>2</td>\n",
       "      <td>4</td>\n",
       "      <td>2</td>\n",
       "      <td>1</td>\n",
       "    </tr>\n",
       "    <tr>\n",
       "      <th>...</th>\n",
       "      <td>...</td>\n",
       "      <td>...</td>\n",
       "      <td>...</td>\n",
       "      <td>...</td>\n",
       "      <td>...</td>\n",
       "      <td>...</td>\n",
       "      <td>...</td>\n",
       "      <td>...</td>\n",
       "      <td>...</td>\n",
       "      <td>...</td>\n",
       "      <td>...</td>\n",
       "      <td>...</td>\n",
       "      <td>...</td>\n",
       "      <td>...</td>\n",
       "      <td>...</td>\n",
       "      <td>...</td>\n",
       "      <td>...</td>\n",
       "      <td>...</td>\n",
       "      <td>...</td>\n",
       "      <td>...</td>\n",
       "      <td>...</td>\n",
       "    </tr>\n",
       "    <tr>\n",
       "      <th>323</th>\n",
       "      <td>Sanskar garg</td>\n",
       "      <td>Computer Science( CS- AI/ML, CS - Data Science...</td>\n",
       "      <td>2</td>\n",
       "      <td>1</td>\n",
       "      <td>19</td>\n",
       "      <td>14</td>\n",
       "      <td>3</td>\n",
       "      <td>2</td>\n",
       "      <td>1</td>\n",
       "      <td>1</td>\n",
       "      <td>...</td>\n",
       "      <td>2</td>\n",
       "      <td>2</td>\n",
       "      <td>4</td>\n",
       "      <td>5</td>\n",
       "      <td>5</td>\n",
       "      <td>4</td>\n",
       "      <td>4</td>\n",
       "      <td>0</td>\n",
       "      <td>0</td>\n",
       "      <td>0</td>\n",
       "    </tr>\n",
       "    <tr>\n",
       "      <th>324</th>\n",
       "      <td>Sumit Jaiswal</td>\n",
       "      <td>Computer Science( CS- AI/ML, CS - Data Science...</td>\n",
       "      <td>2</td>\n",
       "      <td>1</td>\n",
       "      <td>20</td>\n",
       "      <td>12</td>\n",
       "      <td>5</td>\n",
       "      <td>2</td>\n",
       "      <td>1</td>\n",
       "      <td>3</td>\n",
       "      <td>...</td>\n",
       "      <td>3</td>\n",
       "      <td>3</td>\n",
       "      <td>3</td>\n",
       "      <td>3</td>\n",
       "      <td>3</td>\n",
       "      <td>3</td>\n",
       "      <td>3</td>\n",
       "      <td>1</td>\n",
       "      <td>0</td>\n",
       "      <td>0</td>\n",
       "    </tr>\n",
       "    <tr>\n",
       "      <th>325</th>\n",
       "      <td>Kapil Panwar</td>\n",
       "      <td>Computer Science( CS- AI/ML, CS - Data Science...</td>\n",
       "      <td>2</td>\n",
       "      <td>1</td>\n",
       "      <td>20</td>\n",
       "      <td>1</td>\n",
       "      <td>2</td>\n",
       "      <td>2</td>\n",
       "      <td>3</td>\n",
       "      <td>1</td>\n",
       "      <td>...</td>\n",
       "      <td>3</td>\n",
       "      <td>2</td>\n",
       "      <td>1</td>\n",
       "      <td>4</td>\n",
       "      <td>3</td>\n",
       "      <td>3</td>\n",
       "      <td>3</td>\n",
       "      <td>1</td>\n",
       "      <td>1</td>\n",
       "      <td>0</td>\n",
       "    </tr>\n",
       "    <tr>\n",
       "      <th>326</th>\n",
       "      <td>Santosh Pandit</td>\n",
       "      <td>Computer Science( CS- AI/ML, CS - Data Science...</td>\n",
       "      <td>2</td>\n",
       "      <td>1</td>\n",
       "      <td>19</td>\n",
       "      <td>1</td>\n",
       "      <td>3</td>\n",
       "      <td>2</td>\n",
       "      <td>3</td>\n",
       "      <td>3</td>\n",
       "      <td>...</td>\n",
       "      <td>2</td>\n",
       "      <td>2</td>\n",
       "      <td>3</td>\n",
       "      <td>4</td>\n",
       "      <td>3</td>\n",
       "      <td>3</td>\n",
       "      <td>3</td>\n",
       "      <td>1</td>\n",
       "      <td>0</td>\n",
       "      <td>1</td>\n",
       "    </tr>\n",
       "    <tr>\n",
       "      <th>327</th>\n",
       "      <td>Dev Tayal</td>\n",
       "      <td>Computer Science( CS- AI/ML, CS - Data Science...</td>\n",
       "      <td>2</td>\n",
       "      <td>1</td>\n",
       "      <td>17</td>\n",
       "      <td>3</td>\n",
       "      <td>1</td>\n",
       "      <td>1</td>\n",
       "      <td>3</td>\n",
       "      <td>2</td>\n",
       "      <td>...</td>\n",
       "      <td>1</td>\n",
       "      <td>1</td>\n",
       "      <td>5</td>\n",
       "      <td>3</td>\n",
       "      <td>1</td>\n",
       "      <td>2</td>\n",
       "      <td>3</td>\n",
       "      <td>0</td>\n",
       "      <td>0</td>\n",
       "      <td>0</td>\n",
       "    </tr>\n",
       "  </tbody>\n",
       "</table>\n",
       "<p>328 rows × 22 columns</p>\n",
       "</div>"
      ],
      "text/plain": [
       "                name                                             branch  year  \\\n",
       "0    Naman Chaudhary                                               CEIT     4   \n",
       "1     Utsav Mehrotra                                               CEIT     4   \n",
       "2       Akshat Atray                                               CEIT     4   \n",
       "3      Shivam Sharma                                               CEIT     3   \n",
       "4       Aditya saini  Computer Science( CS- AI/ML, CS - Data Science...     2   \n",
       "..               ...                                                ...   ...   \n",
       "323     Sanskar garg  Computer Science( CS- AI/ML, CS - Data Science...     2   \n",
       "324    Sumit Jaiswal  Computer Science( CS- AI/ML, CS - Data Science...     2   \n",
       "325     Kapil Panwar  Computer Science( CS- AI/ML, CS - Data Science...     2   \n",
       "326   Santosh Pandit  Computer Science( CS- AI/ML, CS - Data Science...     2   \n",
       "327        Dev Tayal  Computer Science( CS- AI/ML, CS - Data Science...     2   \n",
       "\n",
       "     gender  age  pt  st  ppl  spl  c_rate  ...  12  sgpa  personality  \\\n",
       "0         1   20   1   8    1    3       3  ...   3     3            4   \n",
       "1         1   21   1   2    3    1       3  ...   3     2            3   \n",
       "2         1   21   1  11    1    3       4  ...   2     2            4   \n",
       "3         1   20   1   7    2    3       2  ...   2     3            4   \n",
       "4         1   20   1   6    1    3       3  ...   2     2            4   \n",
       "..      ...  ...  ..  ..  ...  ...     ...  ...  ..   ...          ...   \n",
       "323       1   19  14   3    2    1       1  ...   2     2            4   \n",
       "324       1   20  12   5    2    1       3  ...   3     3            3   \n",
       "325       1   20   1   2    2    3       1  ...   3     2            1   \n",
       "326       1   19   1   3    2    3       3  ...   2     2            3   \n",
       "327       1   17   3   1    1    3       2  ...   1     1            5   \n",
       "\n",
       "     behaviour  decison  adaptablilty  life  hobby  hstudy  match  \n",
       "0            4        3             3     3      4       0      1  \n",
       "1            5        1             5     1      1       0      1  \n",
       "2            5        2             5     2      0       0      1  \n",
       "3            4        4             3     4      0       0      1  \n",
       "4            5        3             5     2      4       2      1  \n",
       "..         ...      ...           ...   ...    ...     ...    ...  \n",
       "323          5        5             4     4      0       0      0  \n",
       "324          3        3             3     3      1       0      0  \n",
       "325          4        3             3     3      1       1      0  \n",
       "326          4        3             3     3      1       0      1  \n",
       "327          3        1             2     3      0       0      0  \n",
       "\n",
       "[328 rows x 22 columns]"
      ]
     },
     "execution_count": 58,
     "metadata": {},
     "output_type": "execute_result"
    }
   ],
   "source": [
    "features"
   ]
  },
  {
   "cell_type": "markdown",
   "metadata": {},
   "source": [
    "# Tehnical analysis"
   ]
  },
  {
   "cell_type": "code",
   "execution_count": 59,
   "metadata": {},
   "outputs": [],
   "source": [
    "temp = features.groupby([\"year\"])"
   ]
  },
  {
   "cell_type": "markdown",
   "metadata": {},
   "source": [
    "# Primary technology ecncoding\n",
    "1. Front-End:1\n",
    "2. Machine Learning:5\n",
    "3. Competitive Programming:3\n",
    "4. Back-End/ API:2\n",
    "5. None of Above:4\n",
    "6. Android Development:6\n",
    "7. Database:7\n",
    "8. IOT:9\n",
    "9. Cyber Security:8\n",
    "10. Flutter:13\n",
    "12. Blockchain:12\n",
    "13. Software Testing:14\n",
    "14. IoS Development:11\n",
    "15. Cloud:10"
   ]
  },
  {
   "cell_type": "markdown",
   "metadata": {},
   "source": [
    "# Second Year Primary Technology "
   ]
  },
  {
   "cell_type": "code",
   "execution_count": 60,
   "metadata": {},
   "outputs": [
    {
     "data": {
      "text/plain": [
       "year  pt\n",
       "2     1     41\n",
       "      2     25\n",
       "      3     39\n",
       "      4     15\n",
       "      5     53\n",
       "      6     17\n",
       "      7      3\n",
       "      8      7\n",
       "      9      7\n",
       "      10     3\n",
       "      11     3\n",
       "      12     4\n",
       "      13     3\n",
       "      14     4\n",
       "3     1     38\n",
       "      2      8\n",
       "      3     13\n",
       "      4      6\n",
       "      5      8\n",
       "      6      3\n",
       "      7      3\n",
       "      11     1\n",
       "      13     2\n",
       "      14     1\n",
       "4     1      7\n",
       "      2      2\n",
       "      3      4\n",
       "      5      6\n",
       "      7      1\n",
       "      12     1\n",
       "dtype: int64"
      ]
     },
     "execution_count": 60,
     "metadata": {},
     "output_type": "execute_result"
    }
   ],
   "source": [
    "features.groupby([\"year\",\"pt\"]).size()"
   ]
  },
  {
   "cell_type": "code",
   "execution_count": 61,
   "metadata": {},
   "outputs": [
    {
     "name": "stdout",
     "output_type": "stream",
     "text": [
      "4       1\n",
      "8       5\n",
      "10      5\n",
      "16      5\n",
      "18      6\n",
      "       ..\n",
      "323    14\n",
      "324    12\n",
      "325     1\n",
      "326     1\n",
      "327     3\n",
      "Name: pt, Length: 224, dtype: int64\n"
     ]
    }
   ],
   "source": [
    "first = temp.get_group(2).pt\n",
    "print(first)"
   ]
  },
  {
   "cell_type": "code",
   "execution_count": 62,
   "metadata": {},
   "outputs": [
    {
     "data": {
      "text/plain": [
       "5     53\n",
       "1     41\n",
       "3     39\n",
       "2     25\n",
       "6     17\n",
       "4     15\n",
       "9      7\n",
       "8      7\n",
       "14     4\n",
       "12     4\n",
       "13     3\n",
       "11     3\n",
       "10     3\n",
       "7      3\n",
       "Name: pt, dtype: int64"
      ]
     },
     "execution_count": 62,
     "metadata": {},
     "output_type": "execute_result"
    }
   ],
   "source": [
    "first.value_counts()"
   ]
  },
  {
   "cell_type": "code",
   "execution_count": 63,
   "metadata": {},
   "outputs": [
    {
     "data": {
      "text/plain": [
       "[<matplotlib.axis.XTick at 0x7f6145372588>,\n",
       " <matplotlib.axis.XTick at 0x7f61453720f0>,\n",
       " <matplotlib.axis.XTick at 0x7f61432c41d0>,\n",
       " <matplotlib.axis.XTick at 0x7f61432e5da0>,\n",
       " <matplotlib.axis.XTick at 0x7f61432fe278>,\n",
       " <matplotlib.axis.XTick at 0x7f61432fe710>,\n",
       " <matplotlib.axis.XTick at 0x7f61432feba8>,\n",
       " <matplotlib.axis.XTick at 0x7f61432c4198>,\n",
       " <matplotlib.axis.XTick at 0x7f61432fef98>,\n",
       " <matplotlib.axis.XTick at 0x7f614536ccf8>,\n",
       " <matplotlib.axis.XTick at 0x7f614531f668>,\n",
       " <matplotlib.axis.XTick at 0x7f614328eeb8>,\n",
       " <matplotlib.axis.XTick at 0x7f6145338390>,\n",
       " <matplotlib.axis.XTick at 0x7f614328ec50>]"
      ]
     },
     "execution_count": 63,
     "metadata": {},
     "output_type": "execute_result"
    },
    {
     "data": {
      "image/png": "[encoded data removed]",
      "text/plain": [
       "<Figure size 432x288 with 1 Axes>"
      ]
     },
     "metadata": {
      "needs_background": "light"
     },
     "output_type": "display_data"
    }
   ],
   "source": [
    "ax=sns.histplot(first)\n",
    "ax.set(xlabel='Primary Technology', ylabel='Students')\n",
    "ax.set_xticks(np.arange(1,15))"
   ]
  },
  {
   "cell_type": "markdown",
   "metadata": {},
   "source": [
    "# 3 year primary technology"
   ]
  },
  {
   "cell_type": "code",
   "execution_count": 64,
   "metadata": {},
   "outputs": [
    {
     "name": "stdout",
     "output_type": "stream",
     "text": [
      "3       1\n",
      "6       4\n",
      "7       3\n",
      "9       6\n",
      "11      6\n",
      "       ..\n",
      "259     1\n",
      "263     1\n",
      "264     1\n",
      "269     1\n",
      "275    14\n",
      "Name: pt, Length: 83, dtype: int64\n"
     ]
    }
   ],
   "source": [
    "third = temp.get_group(3).pt\n",
    "print(third)"
   ]
  },
  {
   "cell_type": "code",
   "execution_count": 65,
   "metadata": {},
   "outputs": [
    {
     "data": {
      "text/plain": [
       "1     38\n",
       "3     13\n",
       "5      8\n",
       "2      8\n",
       "4      6\n",
       "7      3\n",
       "6      3\n",
       "13     2\n",
       "14     1\n",
       "11     1\n",
       "Name: pt, dtype: int64"
      ]
     },
     "execution_count": 65,
     "metadata": {},
     "output_type": "execute_result"
    }
   ],
   "source": [
    "third.value_counts()"
   ]
  },
  {
   "cell_type": "code",
   "execution_count": 66,
   "metadata": {},
   "outputs": [
    {
     "data": {
      "text/plain": [
       "[<matplotlib.axis.XTick at 0x7f61453486a0>,\n",
       " <matplotlib.axis.XTick at 0x7f6143222e48>,\n",
       " <matplotlib.axis.XTick at 0x7f614323f908>,\n",
       " <matplotlib.axis.XTick at 0x7f61431fd7f0>,\n",
       " <matplotlib.axis.XTick at 0x7f61431fdc88>,\n",
       " <matplotlib.axis.XTick at 0x7f6143188160>,\n",
       " <matplotlib.axis.XTick at 0x7f61431885f8>,\n",
       " <matplotlib.axis.XTick at 0x7f6143188a90>,\n",
       " <matplotlib.axis.XTick at 0x7f6143188f28>,\n",
       " <matplotlib.axis.XTick at 0x7f6143222748>,\n",
       " <matplotlib.axis.XTick at 0x7f614323f5c0>,\n",
       " <matplotlib.axis.XTick at 0x7f614319af60>,\n",
       " <matplotlib.axis.XTick at 0x7f61431c7438>,\n",
       " <matplotlib.axis.XTick at 0x7f614319ac18>]"
      ]
     },
     "execution_count": 66,
     "metadata": {},
     "output_type": "execute_result"
    },
    {
     "data": {
      "image/png": "[encoded data removed]",
      "text/plain": [
       "<Figure size 432x288 with 1 Axes>"
      ]
     },
     "metadata": {
      "needs_background": "light"
     },
     "output_type": "display_data"
    }
   ],
   "source": [
    "ax1=sns.histplot(third,bins=21)\n",
    "ax1.set(xlabel='Primary Technology', ylabel='Third year Students')\n",
    "ax1.set_xticks(np.arange(1,15))"
   ]
  },
  {
   "cell_type": "markdown",
   "metadata": {},
   "source": [
    "# 4 Year PT Anaaysis"
   ]
  },
  {
   "cell_type": "code",
   "execution_count": 67,
   "metadata": {},
   "outputs": [
    {
     "name": "stdout",
     "output_type": "stream",
     "text": [
      "0       1\n",
      "1       1\n",
      "2       1\n",
      "5       3\n",
      "13      1\n",
      "15      5\n",
      "43      5\n",
      "60      7\n",
      "73      5\n",
      "83      5\n",
      "93      3\n",
      "117     3\n",
      "123     3\n",
      "147     1\n",
      "171     5\n",
      "203     5\n",
      "205     1\n",
      "210     2\n",
      "211     2\n",
      "238    12\n",
      "249     1\n",
      "Name: pt, dtype: int64\n"
     ]
    }
   ],
   "source": [
    "fourth = temp.get_group(4).pt\n",
    "print(fourth)"
   ]
  },
  {
   "cell_type": "code",
   "execution_count": 68,
   "metadata": {},
   "outputs": [
    {
     "data": {
      "text/plain": [
       "1     7\n",
       "5     6\n",
       "3     4\n",
       "2     2\n",
       "12    1\n",
       "7     1\n",
       "Name: pt, dtype: int64"
      ]
     },
     "execution_count": 68,
     "metadata": {},
     "output_type": "execute_result"
    }
   ],
   "source": [
    "fourth.value_counts()"
   ]
  },
  {
   "cell_type": "code",
   "execution_count": 69,
   "metadata": {},
   "outputs": [
    {
     "data": {
      "text/plain": [
       "[<matplotlib.axis.XTick at 0x7f61453ee780>,\n",
       " <matplotlib.axis.XTick at 0x7f61453c7b38>,\n",
       " <matplotlib.axis.XTick at 0x7f614315f048>,\n",
       " <matplotlib.axis.XTick at 0x7f614311e128>,\n",
       " <matplotlib.axis.XTick at 0x7f614311e5c0>,\n",
       " <matplotlib.axis.XTick at 0x7f614311ea58>,\n",
       " <matplotlib.axis.XTick at 0x7f614311eef0>,\n",
       " <matplotlib.axis.XTick at 0x7f61431263c8>,\n",
       " <matplotlib.axis.XTick at 0x7f61453f2898>,\n",
       " <matplotlib.axis.XTick at 0x7f6143153908>,\n",
       " <matplotlib.axis.XTick at 0x7f614315b048>,\n",
       " <matplotlib.axis.XTick at 0x7f614315b4a8>,\n",
       " <matplotlib.axis.XTick at 0x7f614315b940>,\n",
       " <matplotlib.axis.XTick at 0x7f614315bdd8>]"
      ]
     },
     "execution_count": 69,
     "metadata": {},
     "output_type": "execute_result"
    },
    {
     "data": {
      "image/png": "[encoded data removed]",
      "text/plain": [
       "<Figure size 432x288 with 1 Axes>"
      ]
     },
     "metadata": {
      "needs_background": "light"
     },
     "output_type": "display_data"
    }
   ],
   "source": [
    "ax2=sns.histplot(fourth,bins=21)\n",
    "ax2.set(xlabel='Primary Technology', ylabel='Third year Students')\n",
    "ax2.set_xticks(np.arange(1,15))"
   ]
  },
  {
   "cell_type": "markdown",
   "metadata": {},
   "source": [
    "# Secondary technology"
   ]
  },
  {
   "cell_type": "markdown",
   "metadata": {},
   "source": [
    "# Second year secondry technology"
   ]
  },
  {
   "cell_type": "code",
   "execution_count": 70,
   "metadata": {},
   "outputs": [
    {
     "name": "stdout",
     "output_type": "stream",
     "text": [
      "4       6\n",
      "8       6\n",
      "10      9\n",
      "16     12\n",
      "18      8\n",
      "       ..\n",
      "323     3\n",
      "324     5\n",
      "325     2\n",
      "326     3\n",
      "327     1\n",
      "Name: st, Length: 224, dtype: int64\n"
     ]
    }
   ],
   "source": [
    "first1 = temp.get_group(2).st\n",
    "print(first1)"
   ]
  },
  {
   "cell_type": "code",
   "execution_count": 71,
   "metadata": {},
   "outputs": [
    {
     "data": {
      "text/plain": [
       "year  st\n",
       "2     1     35\n",
       "      2     24\n",
       "      3     27\n",
       "      4     25\n",
       "      5     31\n",
       "      6     26\n",
       "      7      9\n",
       "      8      9\n",
       "      9      8\n",
       "      10     9\n",
       "      11     8\n",
       "      12     7\n",
       "      14     6\n",
       "3     1     20\n",
       "      2     15\n",
       "      3     14\n",
       "      4     11\n",
       "      5      5\n",
       "      7      8\n",
       "      9      3\n",
       "      10     2\n",
       "      11     1\n",
       "      12     1\n",
       "      13     2\n",
       "      14     1\n",
       "4     1      2\n",
       "      2      6\n",
       "      3      1\n",
       "      4      1\n",
       "      6      1\n",
       "      7      2\n",
       "      8      3\n",
       "      11     1\n",
       "      12     1\n",
       "      13     2\n",
       "      14     1\n",
       "dtype: int64"
      ]
     },
     "execution_count": 71,
     "metadata": {},
     "output_type": "execute_result"
    }
   ],
   "source": [
    "features.groupby([\"year\",\"st\"]).size()"
   ]
  },
  {
   "cell_type": "code",
   "execution_count": 72,
   "metadata": {},
   "outputs": [
    {
     "data": {
      "text/plain": [
       "1     35\n",
       "5     31\n",
       "3     27\n",
       "6     26\n",
       "4     25\n",
       "2     24\n",
       "10     9\n",
       "8      9\n",
       "7      9\n",
       "11     8\n",
       "9      8\n",
       "12     7\n",
       "14     6\n",
       "Name: st, dtype: int64"
      ]
     },
     "execution_count": 72,
     "metadata": {},
     "output_type": "execute_result"
    }
   ],
   "source": [
    "first1.value_counts()"
   ]
  },
  {
   "cell_type": "code",
   "execution_count": 73,
   "metadata": {},
   "outputs": [
    {
     "data": {
      "text/plain": [
       "[<matplotlib.axis.XTick at 0x7f61430dfb38>,\n",
       " <matplotlib.axis.XTick at 0x7f61430df6a0>,\n",
       " <matplotlib.axis.XTick at 0x7f614308e588>,\n",
       " <matplotlib.axis.XTick at 0x7f614304c470>,\n",
       " <matplotlib.axis.XTick at 0x7f614304c908>,\n",
       " <matplotlib.axis.XTick at 0x7f614304cda0>,\n",
       " <matplotlib.axis.XTick at 0x7f6143057278>,\n",
       " <matplotlib.axis.XTick at 0x7f6143057710>,\n",
       " <matplotlib.axis.XTick at 0x7f6143057ba8>,\n",
       " <matplotlib.axis.XTick at 0x7f61430df2e8>,\n",
       " <matplotlib.axis.XTick at 0x7f61430fddd8>,\n",
       " <matplotlib.axis.XTick at 0x7f6143069940>,\n",
       " <matplotlib.axis.XTick at 0x7f6143069dd8>,\n",
       " <matplotlib.axis.XTick at 0x7f614306c2b0>]"
      ]
     },
     "execution_count": 73,
     "metadata": {},
     "output_type": "execute_result"
    },
    {
     "data": {
      "image/png": "[encoded data removed]",
      "text/plain": [
       "<Figure size 432x288 with 1 Axes>"
      ]
     },
     "metadata": {
      "needs_background": "light"
     },
     "output_type": "display_data"
    }
   ],
   "source": [
    "ax3=sns.histplot(first1,bins=21)\n",
    "ax3.set(xlabel='Secondry Technology', ylabel='Students')\n",
    "ax3.set_xticks(np.arange(1,15))"
   ]
  },
  {
   "cell_type": "markdown",
   "metadata": {},
   "source": [
    "# Third year secondary technology analysis"
   ]
  },
  {
   "cell_type": "code",
   "execution_count": 74,
   "metadata": {},
   "outputs": [
    {
     "name": "stdout",
     "output_type": "stream",
     "text": [
      "3      7\n",
      "6      4\n",
      "7      1\n",
      "9      1\n",
      "11     1\n",
      "      ..\n",
      "259    3\n",
      "263    3\n",
      "264    2\n",
      "269    2\n",
      "275    3\n",
      "Name: st, Length: 83, dtype: int64\n"
     ]
    }
   ],
   "source": [
    "third2 = temp.get_group(3).st\n",
    "print(third2)"
   ]
  },
  {
   "cell_type": "code",
   "execution_count": 75,
   "metadata": {},
   "outputs": [
    {
     "data": {
      "text/plain": [
       "1     20\n",
       "2     15\n",
       "3     14\n",
       "4     11\n",
       "7      8\n",
       "5      5\n",
       "9      3\n",
       "13     2\n",
       "10     2\n",
       "14     1\n",
       "12     1\n",
       "11     1\n",
       "Name: st, dtype: int64"
      ]
     },
     "execution_count": 75,
     "metadata": {},
     "output_type": "execute_result"
    }
   ],
   "source": [
    "third2.value_counts()"
   ]
  },
  {
   "cell_type": "code",
   "execution_count": 76,
   "metadata": {},
   "outputs": [
    {
     "data": {
      "text/plain": [
       "[<matplotlib.axis.XTick at 0x7f6143014cc0>,\n",
       " <matplotlib.axis.XTick at 0x7f6143014828>,\n",
       " <matplotlib.axis.XTick at 0x7f6142fc1748>,\n",
       " <matplotlib.axis.XTick at 0x7f6142f81630>,\n",
       " <matplotlib.axis.XTick at 0x7f6142f81ac8>,\n",
       " <matplotlib.axis.XTick at 0x7f6142f81f60>,\n",
       " <matplotlib.axis.XTick at 0x7f6142f8d438>,\n",
       " <matplotlib.axis.XTick at 0x7f6142f8d8d0>,\n",
       " <matplotlib.axis.XTick at 0x7f6142f8dd68>,\n",
       " <matplotlib.axis.XTick at 0x7f6143014470>,\n",
       " <matplotlib.axis.XTick at 0x7f6143031e10>,\n",
       " <matplotlib.axis.XTick at 0x7f6142f9ef28>,\n",
       " <matplotlib.axis.XTick at 0x7f6142fa5400>,\n",
       " <matplotlib.axis.XTick at 0x7f6142fa5898>]"
      ]
     },
     "execution_count": 76,
     "metadata": {},
     "output_type": "execute_result"
    },
    {
     "data": {
      "image/png": "[encoded data removed]",
      "text/plain": [
       "<Figure size 432x288 with 1 Axes>"
      ]
     },
     "metadata": {
      "needs_background": "light"
     },
     "output_type": "display_data"
    }
   ],
   "source": [
    "ax4=sns.histplot(third2,bins=21)\n",
    "ax4.set(xlabel='Secondry Technology', ylabel='Third year Students')\n",
    "ax4.set_xticks(np.arange(1,15))"
   ]
  },
  {
   "cell_type": "markdown",
   "metadata": {},
   "source": [
    "# 4th year secondary technology"
   ]
  },
  {
   "cell_type": "code",
   "execution_count": 77,
   "metadata": {},
   "outputs": [
    {
     "name": "stdout",
     "output_type": "stream",
     "text": [
      "0       8\n",
      "1       2\n",
      "2      11\n",
      "5       4\n",
      "13      2\n",
      "15     12\n",
      "43      6\n",
      "60      8\n",
      "73      3\n",
      "83      2\n",
      "93      2\n",
      "117     8\n",
      "123    14\n",
      "147     7\n",
      "171     2\n",
      "203     1\n",
      "205    13\n",
      "210     1\n",
      "211    13\n",
      "238     7\n",
      "249     2\n",
      "Name: st, dtype: int64\n"
     ]
    }
   ],
   "source": [
    "fourth2 = temp.get_group(4).st\n",
    "print(fourth2)"
   ]
  },
  {
   "cell_type": "code",
   "execution_count": 78,
   "metadata": {},
   "outputs": [
    {
     "data": {
      "text/plain": [
       "2     6\n",
       "8     3\n",
       "13    2\n",
       "7     2\n",
       "1     2\n",
       "14    1\n",
       "12    1\n",
       "11    1\n",
       "6     1\n",
       "4     1\n",
       "3     1\n",
       "Name: st, dtype: int64"
      ]
     },
     "execution_count": 78,
     "metadata": {},
     "output_type": "execute_result"
    }
   ],
   "source": [
    "fourth2.value_counts()"
   ]
  },
  {
   "cell_type": "code",
   "execution_count": 79,
   "metadata": {},
   "outputs": [
    {
     "data": {
      "text/plain": [
       "[<matplotlib.axis.XTick at 0x7f6142f4e550>,\n",
       " <matplotlib.axis.XTick at 0x7f6142f4e0b8>,\n",
       " <matplotlib.axis.XTick at 0x7f6142f71f60>,\n",
       " <matplotlib.axis.XTick at 0x7f6142f30e10>,\n",
       " <matplotlib.axis.XTick at 0x7f6142ec02e8>,\n",
       " <matplotlib.axis.XTick at 0x7f6142ec0780>,\n",
       " <matplotlib.axis.XTick at 0x7f6142ec0c18>,\n",
       " <matplotlib.axis.XTick at 0x7f6142ec90f0>,\n",
       " <matplotlib.axis.XTick at 0x7f6142ec9588>,\n",
       " <matplotlib.axis.XTick at 0x7f6142f4acc0>,\n",
       " <matplotlib.axis.XTick at 0x7f6142f71668>,\n",
       " <matplotlib.axis.XTick at 0x7f6142ed1e48>,\n",
       " <matplotlib.axis.XTick at 0x7f6142f3c320>,\n",
       " <matplotlib.axis.XTick at 0x7f6142f3c7b8>]"
      ]
     },
     "execution_count": 79,
     "metadata": {},
     "output_type": "execute_result"
    },
    {
     "data": {
      "image/png": "[encoded data removed]",
      "text/plain": [
       "<Figure size 432x288 with 1 Axes>"
      ]
     },
     "metadata": {
      "needs_background": "light"
     },
     "output_type": "display_data"
    }
   ],
   "source": [
    "ax5=sns.histplot(fourth2,bins=21)\n",
    "ax5.set(xlabel='Secondry Technology', ylabel='Third year Students')\n",
    "ax5.set_xticks(np.arange(1,15))"
   ]
  },
  {
   "cell_type": "markdown",
   "metadata": {},
   "source": [
    "# Programming Language Analysis"
   ]
  },
  {
   "cell_type": "markdown",
   "metadata": {},
   "source": [
    "## Encoding \n",
    "1. C++: 1\n",
    "2. C: 2\n",
    "3. Python: 3\n",
    "4. Java: 0"
   ]
  },
  {
   "cell_type": "code",
   "execution_count": 80,
   "metadata": {},
   "outputs": [
    {
     "data": {
      "text/plain": [
       "1    115\n",
       "2    100\n",
       "3     85\n",
       "0     28\n",
       "Name: ppl, dtype: int64"
      ]
     },
     "execution_count": 80,
     "metadata": {},
     "output_type": "execute_result"
    }
   ],
   "source": [
    "features[\"ppl\"].value_counts()"
   ]
  },
  {
   "cell_type": "code",
   "execution_count": 81,
   "metadata": {},
   "outputs": [
    {
     "data": {
      "text/plain": [
       "3    167\n",
       "2     70\n",
       "1     57\n",
       "0     34\n",
       "Name: spl, dtype: int64"
      ]
     },
     "execution_count": 81,
     "metadata": {},
     "output_type": "execute_result"
    }
   ],
   "source": [
    "features[\"spl\"].value_counts()"
   ]
  },
  {
   "cell_type": "markdown",
   "metadata": {},
   "source": [
    "# Second year primary language analysis"
   ]
  },
  {
   "cell_type": "code",
   "execution_count": 82,
   "metadata": {},
   "outputs": [
    {
     "name": "stdout",
     "output_type": "stream",
     "text": [
      "4      1\n",
      "8      3\n",
      "10     3\n",
      "16     1\n",
      "18     3\n",
      "      ..\n",
      "323    2\n",
      "324    2\n",
      "325    2\n",
      "326    2\n",
      "327    1\n",
      "Name: ppl, Length: 224, dtype: int64\n"
     ]
    }
   ],
   "source": [
    "second_ppl = temp.get_group(2).ppl\n",
    "print(second_ppl)"
   ]
  },
  {
   "cell_type": "code",
   "execution_count": 83,
   "metadata": {},
   "outputs": [
    {
     "data": {
      "text/plain": [
       "2    93\n",
       "1    69\n",
       "3    46\n",
       "0    16\n",
       "Name: ppl, dtype: int64"
      ]
     },
     "execution_count": 83,
     "metadata": {},
     "output_type": "execute_result"
    }
   ],
   "source": [
    "s_pie =second_ppl.value_counts()\n",
    "s_pie"
   ]
  },
  {
   "cell_type": "code",
   "execution_count": 84,
   "metadata": {},
   "outputs": [
    {
     "data": {
      "image/png": "[encoded data removed]",
      "text/plain": [
       "<Figure size 432x288 with 1 Axes>"
      ]
     },
     "metadata": {},
     "output_type": "display_data"
    }
   ],
   "source": [
    "labels = [\"C\",\"C++\",\"Python\",\"Java\" ]\n",
    "plt.pie(s_pie,labels = labels,autopct='%.0f%%')\n",
    "plt.show()"
   ]
  },
  {
   "cell_type": "markdown",
   "metadata": {},
   "source": [
    "# Third Year primary technology analysis"
   ]
  },
  {
   "cell_type": "code",
   "execution_count": 85,
   "metadata": {},
   "outputs": [
    {
     "name": "stdout",
     "output_type": "stream",
     "text": [
      "3      2\n",
      "6      1\n",
      "7      1\n",
      "9      0\n",
      "11     0\n",
      "      ..\n",
      "259    3\n",
      "263    3\n",
      "264    0\n",
      "269    3\n",
      "275    1\n",
      "Name: ppl, Length: 83, dtype: int64\n"
     ]
    }
   ],
   "source": [
    "third_ppl = temp.get_group(3).ppl\n",
    "print(third_ppl)"
   ]
  },
  {
   "cell_type": "code",
   "execution_count": 86,
   "metadata": {},
   "outputs": [
    {
     "data": {
      "text/plain": [
       "1    39\n",
       "3    27\n",
       "0    10\n",
       "2     7\n",
       "Name: ppl, dtype: int64"
      ]
     },
     "execution_count": 86,
     "metadata": {},
     "output_type": "execute_result"
    }
   ],
   "source": [
    "t_pie =third_ppl.value_counts()\n",
    "t_pie"
   ]
  },
  {
   "cell_type": "code",
   "execution_count": 87,
   "metadata": {},
   "outputs": [
    {
     "data": {
      "image/png": "[encoded data removed]",
      "text/plain": [
       "<Figure size 432x288 with 1 Axes>"
      ]
     },
     "metadata": {},
     "output_type": "display_data"
    }
   ],
   "source": [
    "labels = [\"C++\",\"Python\",\"Java\",\"C\" ]\n",
    "plt.pie(t_pie,labels = labels,autopct='%.0f%%')\n",
    "plt.show()"
   ]
  },
  {
   "cell_type": "markdown",
   "metadata": {},
   "source": [
    "# 4th year primary language analysis"
   ]
  },
  {
   "cell_type": "code",
   "execution_count": 88,
   "metadata": {},
   "outputs": [
    {
     "name": "stdout",
     "output_type": "stream",
     "text": [
      "0      1\n",
      "1      3\n",
      "2      1\n",
      "5      1\n",
      "13     1\n",
      "15     3\n",
      "43     3\n",
      "60     3\n",
      "73     1\n",
      "83     3\n",
      "93     0\n",
      "117    1\n",
      "123    3\n",
      "147    3\n",
      "171    3\n",
      "203    3\n",
      "205    3\n",
      "210    3\n",
      "211    0\n",
      "238    3\n",
      "249    1\n",
      "Name: ppl, dtype: int64\n"
     ]
    }
   ],
   "source": [
    "fourth_ppl = temp.get_group(4).ppl\n",
    "print(fourth_ppl)"
   ]
  },
  {
   "cell_type": "code",
   "execution_count": 89,
   "metadata": {},
   "outputs": [],
   "source": [
    "f_pie =fourth_ppl.value_counts()"
   ]
  },
  {
   "cell_type": "code",
   "execution_count": 90,
   "metadata": {},
   "outputs": [
    {
     "data": {
      "text/plain": [
       "3    12\n",
       "1     7\n",
       "0     2\n",
       "Name: ppl, dtype: int64"
      ]
     },
     "execution_count": 90,
     "metadata": {},
     "output_type": "execute_result"
    }
   ],
   "source": [
    "f_pie"
   ]
  },
  {
   "cell_type": "code",
   "execution_count": 91,
   "metadata": {},
   "outputs": [
    {
     "data": {
      "image/png": "[encoded data removed]",
      "text/plain": [
       "<Figure size 432x288 with 1 Axes>"
      ]
     },
     "metadata": {},
     "output_type": "display_data"
    }
   ],
   "source": [
    "labels = [\"Python\",\"C++\",\"Java\" ]\n",
    "plt.pie(f_pie,labels = labels,autopct='%.0f%%')\n",
    "plt.show()"
   ]
  },
  {
   "cell_type": "markdown",
   "metadata": {},
   "source": [
    "# Certified or not"
   ]
  },
  {
   "cell_type": "markdown",
   "metadata": {},
   "source": [
    "# Second Year Certifications"
   ]
  },
  {
   "cell_type": "code",
   "execution_count": 92,
   "metadata": {},
   "outputs": [
    {
     "data": {
      "text/plain": [
       "0    236\n",
       "1     92\n",
       "Name: certified, dtype: int64"
      ]
     },
     "execution_count": 92,
     "metadata": {},
     "output_type": "execute_result"
    }
   ],
   "source": [
    "features[\"certified\"].value_counts()"
   ]
  },
  {
   "cell_type": "code",
   "execution_count": 93,
   "metadata": {},
   "outputs": [],
   "source": [
    "second_year = temp.get_group(2).certified"
   ]
  },
  {
   "cell_type": "code",
   "execution_count": 94,
   "metadata": {},
   "outputs": [
    {
     "data": {
      "text/plain": [
       "0    192\n",
       "1     32\n",
       "Name: certified, dtype: int64"
      ]
     },
     "execution_count": 94,
     "metadata": {},
     "output_type": "execute_result"
    }
   ],
   "source": [
    "second_year.value_counts()"
   ]
  },
  {
   "cell_type": "markdown",
   "metadata": {},
   "source": [
    "# Third Year Certifications"
   ]
  },
  {
   "cell_type": "code",
   "execution_count": 95,
   "metadata": {},
   "outputs": [],
   "source": [
    "third_year = temp.get_group(3).certified"
   ]
  },
  {
   "cell_type": "code",
   "execution_count": 96,
   "metadata": {},
   "outputs": [
    {
     "data": {
      "text/plain": [
       "1    45\n",
       "0    38\n",
       "Name: certified, dtype: int64"
      ]
     },
     "execution_count": 96,
     "metadata": {},
     "output_type": "execute_result"
    }
   ],
   "source": [
    "third_year.value_counts()"
   ]
  },
  {
   "cell_type": "markdown",
   "metadata": {},
   "source": [
    "# Fouth Year Certifications"
   ]
  },
  {
   "cell_type": "code",
   "execution_count": 97,
   "metadata": {},
   "outputs": [],
   "source": [
    "fourth_year = temp.get_group(4).certified"
   ]
  },
  {
   "cell_type": "code",
   "execution_count": 98,
   "metadata": {},
   "outputs": [
    {
     "data": {
      "text/plain": [
       "1    15\n",
       "0     6\n",
       "Name: certified, dtype: int64"
      ]
     },
     "execution_count": 98,
     "metadata": {},
     "output_type": "execute_result"
    }
   ],
   "source": [
    "fourth_year.value_counts()"
   ]
  },
  {
   "cell_type": "markdown",
   "metadata": {},
   "source": [
    "# Age Distribution in second year"
   ]
  },
  {
   "cell_type": "code",
   "execution_count": 99,
   "metadata": {},
   "outputs": [],
   "source": [
    "second_year = temp.get_group(2).age.value_counts()"
   ]
  },
  {
   "cell_type": "code",
   "execution_count": 100,
   "metadata": {},
   "outputs": [
    {
     "data": {
      "text/plain": [
       "19    109\n",
       "20     59\n",
       "18     47\n",
       "17      5\n",
       "21      3\n",
       "22      1\n",
       "Name: age, dtype: int64"
      ]
     },
     "execution_count": 100,
     "metadata": {},
     "output_type": "execute_result"
    }
   ],
   "source": [
    "second_year"
   ]
  },
  {
   "cell_type": "markdown",
   "metadata": {},
   "source": [
    "# Age Distribution in third year"
   ]
  },
  {
   "cell_type": "code",
   "execution_count": 101,
   "metadata": {},
   "outputs": [],
   "source": [
    "third_year = temp.get_group(3).age.value_counts()"
   ]
  },
  {
   "cell_type": "code",
   "execution_count": 102,
   "metadata": {},
   "outputs": [
    {
     "data": {
      "text/plain": [
       "20    33\n",
       "19    26\n",
       "21    15\n",
       "22     6\n",
       "23     2\n",
       "18     1\n",
       "Name: age, dtype: int64"
      ]
     },
     "execution_count": 102,
     "metadata": {},
     "output_type": "execute_result"
    }
   ],
   "source": [
    "third_year"
   ]
  },
  {
   "cell_type": "markdown",
   "metadata": {},
   "source": [
    "# Age distribution in fourth year"
   ]
  },
  {
   "cell_type": "code",
   "execution_count": 103,
   "metadata": {},
   "outputs": [],
   "source": [
    "fourth_year = temp.get_group(4).age.value_counts()"
   ]
  },
  {
   "cell_type": "code",
   "execution_count": 104,
   "metadata": {},
   "outputs": [
    {
     "data": {
      "text/plain": [
       "21    13\n",
       "22     4\n",
       "20     3\n",
       "19     1\n",
       "Name: age, dtype: int64"
      ]
     },
     "execution_count": 104,
     "metadata": {},
     "output_type": "execute_result"
    }
   ],
   "source": [
    "fourth_year"
   ]
  },
  {
   "cell_type": "markdown",
   "metadata": {},
   "source": [
    "## Secondary programming language"
   ]
  },
  {
   "cell_type": "markdown",
   "metadata": {},
   "source": [
    "## Encoding \n",
    "1. C++: 1\n",
    "2. C: 2\n",
    "3. Python: 3\n",
    "4. Java: 0"
   ]
  },
  {
   "cell_type": "code",
   "execution_count": 105,
   "metadata": {},
   "outputs": [
    {
     "data": {
      "text/plain": [
       "3    167\n",
       "2     70\n",
       "1     57\n",
       "0     34\n",
       "Name: spl, dtype: int64"
      ]
     },
     "execution_count": 105,
     "metadata": {},
     "output_type": "execute_result"
    }
   ],
   "source": [
    "features[\"spl\"].value_counts()"
   ]
  },
  {
   "cell_type": "code",
   "execution_count": 106,
   "metadata": {},
   "outputs": [
    {
     "name": "stdout",
     "output_type": "stream",
     "text": [
      "4      3\n",
      "8      1\n",
      "10     0\n",
      "16     3\n",
      "18     2\n",
      "      ..\n",
      "323    1\n",
      "324    1\n",
      "325    3\n",
      "326    3\n",
      "327    3\n",
      "Name: spl, Length: 224, dtype: int64\n"
     ]
    }
   ],
   "source": [
    "second_spl = temp.get_group(2).spl\n",
    "print(second_spl)"
   ]
  },
  {
   "cell_type": "code",
   "execution_count": 107,
   "metadata": {},
   "outputs": [
    {
     "data": {
      "text/plain": [
       "3    114\n",
       "2     54\n",
       "1     36\n",
       "0     20\n",
       "Name: spl, dtype: int64"
      ]
     },
     "execution_count": 107,
     "metadata": {},
     "output_type": "execute_result"
    }
   ],
   "source": [
    "second_spl_pie =second_spl.value_counts()\n",
    "second_spl_pie"
   ]
  },
  {
   "cell_type": "code",
   "execution_count": 109,
   "metadata": {},
   "outputs": [
    {
     "data": {
      "image/png": "[encoded data removed]",
      "text/plain": [
       "<Figure size 432x288 with 1 Axes>"
      ]
     },
     "metadata": {},
     "output_type": "display_data"
    }
   ],
   "source": [
    "labels = [\"Python\",\"C\",\"C++\",\"Java\" ]\n",
    "plt.pie(second_spl_pie,labels = labels,autopct='%.0f%%')\n",
    "plt.show()"
   ]
  },
  {
   "cell_type": "markdown",
   "metadata": {},
   "source": [
    "## Third year secondary language analysis"
   ]
  },
  {
   "cell_type": "code",
   "execution_count": 110,
   "metadata": {},
   "outputs": [
    {
     "name": "stdout",
     "output_type": "stream",
     "text": [
      "3      3\n",
      "6      3\n",
      "7      3\n",
      "9      2\n",
      "11     3\n",
      "      ..\n",
      "259    2\n",
      "263    1\n",
      "264    3\n",
      "269    1\n",
      "275    3\n",
      "Name: spl, Length: 83, dtype: int64\n"
     ]
    }
   ],
   "source": [
    "third_spl = temp.get_group(3).spl\n",
    "print(third_spl)"
   ]
  },
  {
   "cell_type": "code",
   "execution_count": 112,
   "metadata": {},
   "outputs": [
    {
     "data": {
      "text/plain": [
       "3    46\n",
       "1    17\n",
       "2    12\n",
       "0     8\n",
       "Name: spl, dtype: int64"
      ]
     },
     "execution_count": 112,
     "metadata": {},
     "output_type": "execute_result"
    }
   ],
   "source": [
    "third_spl_pie =third_spl.value_counts()\n",
    "third_spl_pie"
   ]
  },
  {
   "cell_type": "code",
   "execution_count": 113,
   "metadata": {},
   "outputs": [
    {
     "data": {
      "image/png": "[encoded data removed]",
      "text/plain": [
       "<Figure size 432x288 with 1 Axes>"
      ]
     },
     "metadata": {},
     "output_type": "display_data"
    }
   ],
   "source": [
    "labels = [\"Python\",\"C++\",\"C\",\"Java\" ]\n",
    "plt.pie(third_spl_pie,labels = labels,autopct='%.0f%%')\n",
    "plt.show()"
   ]
  },
  {
   "cell_type": "markdown",
   "metadata": {},
   "source": [
    "## Fourth Year secondary language analysis"
   ]
  },
  {
   "cell_type": "code",
   "execution_count": 114,
   "metadata": {},
   "outputs": [
    {
     "name": "stdout",
     "output_type": "stream",
     "text": [
      "0      3\n",
      "1      1\n",
      "2      3\n",
      "5      0\n",
      "13     3\n",
      "15     2\n",
      "43     1\n",
      "60     0\n",
      "73     3\n",
      "83     1\n",
      "93     3\n",
      "117    0\n",
      "123    0\n",
      "147    0\n",
      "171    2\n",
      "203    1\n",
      "205    0\n",
      "210    2\n",
      "211    3\n",
      "238    2\n",
      "249    3\n",
      "Name: spl, dtype: int64\n"
     ]
    }
   ],
   "source": [
    "fourth_spl = temp.get_group(4).spl\n",
    "print(fourth_spl)"
   ]
  },
  {
   "cell_type": "code",
   "execution_count": 115,
   "metadata": {},
   "outputs": [
    {
     "data": {
      "text/plain": [
       "3    7\n",
       "0    6\n",
       "2    4\n",
       "1    4\n",
       "Name: spl, dtype: int64"
      ]
     },
     "execution_count": 115,
     "metadata": {},
     "output_type": "execute_result"
    }
   ],
   "source": [
    "fourth_spl_pie =fourth_spl.value_counts()\n",
    "fourth_spl_pie"
   ]
  },
  {
   "cell_type": "code",
   "execution_count": 116,
   "metadata": {},
   "outputs": [
    {
     "data": {
      "image/png": "[encoded data removed]",
      "text/plain": [
       "<Figure size 432x288 with 1 Axes>"
      ]
     },
     "metadata": {},
     "output_type": "display_data"
    }
   ],
   "source": [
    "labels = [\"Python\",\"Java\",\"C\",\"C++\" ]\n",
    "plt.pie(fourth_spl_pie,labels = labels,autopct='%.0f%%')\n",
    "plt.show()"
   ]
  },
  {
   "cell_type": "markdown",
   "metadata": {},
   "source": [
    "# Coding ratings"
   ]
  },
  {
   "cell_type": "code",
   "execution_count": 119,
   "metadata": {},
   "outputs": [
    {
     "data": {
      "text/plain": [
       "Index(['name', 'branch', 'year', 'gender', 'age', 'pt', 'st', 'ppl', 'spl',\n",
       "       'c_rate', 'w_rate', 'certified', '12', 'sgpa', 'personality',\n",
       "       'behaviour', 'decison', 'adaptablilty', 'life', 'hobby', 'hstudy',\n",
       "       'match'],\n",
       "      dtype='object')"
      ]
     },
     "execution_count": 119,
     "metadata": {},
     "output_type": "execute_result"
    }
   ],
   "source": [
    "features.columns"
   ]
  },
  {
   "cell_type": "code",
   "execution_count": 120,
   "metadata": {},
   "outputs": [
    {
     "data": {
      "text/plain": [
       "0      3\n",
       "1      3\n",
       "2      4\n",
       "3      2\n",
       "4      3\n",
       "      ..\n",
       "323    1\n",
       "324    3\n",
       "325    1\n",
       "326    3\n",
       "327    2\n",
       "Name: c_rate, Length: 328, dtype: int64"
      ]
     },
     "execution_count": 120,
     "metadata": {},
     "output_type": "execute_result"
    }
   ],
   "source": [
    "features[\"c_rate\"]"
   ]
  },
  {
   "cell_type": "code",
   "execution_count": 122,
   "metadata": {},
   "outputs": [
    {
     "data": {
      "text/plain": [
       "3    161\n",
       "4     65\n",
       "2     62\n",
       "1     33\n",
       "5      7\n",
       "Name: c_rate, dtype: int64"
      ]
     },
     "execution_count": 122,
     "metadata": {},
     "output_type": "execute_result"
    }
   ],
   "source": [
    "features[\"c_rate\"].value_counts()"
   ]
  },
  {
   "cell_type": "markdown",
   "metadata": {},
   "source": [
    "# Second Year Coding rate Analysis"
   ]
  },
  {
   "cell_type": "code",
   "execution_count": 123,
   "metadata": {},
   "outputs": [
    {
     "data": {
      "text/plain": [
       "4      3\n",
       "8      3\n",
       "10     3\n",
       "16     3\n",
       "18     2\n",
       "      ..\n",
       "323    1\n",
       "324    3\n",
       "325    1\n",
       "326    3\n",
       "327    2\n",
       "Name: c_rate, Length: 224, dtype: int64"
      ]
     },
     "execution_count": 123,
     "metadata": {},
     "output_type": "execute_result"
    }
   ],
   "source": [
    "second_year_rating = temp.get_group(2).c_rate\n",
    "second_year_rating"
   ]
  },
  {
   "cell_type": "code",
   "execution_count": 124,
   "metadata": {},
   "outputs": [
    {
     "data": {
      "text/plain": [
       "3    94\n",
       "2    53\n",
       "4    40\n",
       "1    33\n",
       "5     4\n",
       "Name: c_rate, dtype: int64"
      ]
     },
     "execution_count": 124,
     "metadata": {},
     "output_type": "execute_result"
    }
   ],
   "source": [
    "second_year_rating.value_counts()"
   ]
  },
  {
   "cell_type": "code",
   "execution_count": 125,
   "metadata": {},
   "outputs": [
    {
     "data": {
      "text/plain": [
       "<AxesSubplot:xlabel='c_rate', ylabel='Count'>"
      ]
     },
     "execution_count": 125,
     "metadata": {},
     "output_type": "execute_result"
    },
    {
     "data": {
      "image/png": "[encoded data removed]",
      "text/plain": [
       "<Figure size 432x288 with 1 Axes>"
      ]
     },
     "metadata": {
      "needs_background": "light"
     },
     "output_type": "display_data"
    }
   ],
   "source": [
    "sns.histplot(second_year_rating)"
   ]
  },
  {
   "cell_type": "markdown",
   "metadata": {},
   "source": [
    "# Third Year coidng Rate analysis"
   ]
  },
  {
   "cell_type": "code",
   "execution_count": 126,
   "metadata": {},
   "outputs": [
    {
     "data": {
      "text/plain": [
       "3      2\n",
       "6      2\n",
       "7      3\n",
       "9      3\n",
       "11     4\n",
       "      ..\n",
       "259    3\n",
       "263    2\n",
       "264    3\n",
       "269    3\n",
       "275    3\n",
       "Name: c_rate, Length: 83, dtype: int64"
      ]
     },
     "execution_count": 126,
     "metadata": {},
     "output_type": "execute_result"
    }
   ],
   "source": [
    "third_year_rating = temp.get_group(3).c_rate\n",
    "third_year_rating"
   ]
  },
  {
   "cell_type": "code",
   "execution_count": 127,
   "metadata": {},
   "outputs": [
    {
     "data": {
      "text/plain": [
       "3    56\n",
       "4    16\n",
       "2     9\n",
       "5     2\n",
       "Name: c_rate, dtype: int64"
      ]
     },
     "execution_count": 127,
     "metadata": {},
     "output_type": "execute_result"
    }
   ],
   "source": [
    "third_year_rating.value_counts()"
   ]
  },
  {
   "cell_type": "code",
   "execution_count": 128,
   "metadata": {},
   "outputs": [
    {
     "data": {
      "text/plain": [
       "<AxesSubplot:xlabel='c_rate', ylabel='Count'>"
      ]
     },
     "execution_count": 128,
     "metadata": {},
     "output_type": "execute_result"
    },
    {
     "data": {
      "image/png": "[encoded data removed]",
      "text/plain": [
       "<Figure size 432x288 with 1 Axes>"
      ]
     },
     "metadata": {
      "needs_background": "light"
     },
     "output_type": "display_data"
    }
   ],
   "source": [
    "sns.histplot(third_year_rating)"
   ]
  },
  {
   "cell_type": "markdown",
   "metadata": {},
   "source": [
    "# Fourth Year Coding rate"
   ]
  },
  {
   "cell_type": "code",
   "execution_count": 129,
   "metadata": {},
   "outputs": [
    {
     "data": {
      "text/plain": [
       "0      3\n",
       "1      3\n",
       "2      4\n",
       "5      4\n",
       "13     4\n",
       "15     3\n",
       "43     3\n",
       "60     4\n",
       "73     3\n",
       "83     3\n",
       "93     4\n",
       "117    3\n",
       "123    4\n",
       "147    3\n",
       "171    5\n",
       "203    3\n",
       "205    4\n",
       "210    3\n",
       "211    4\n",
       "238    3\n",
       "249    4\n",
       "Name: c_rate, dtype: int64"
      ]
     },
     "execution_count": 129,
     "metadata": {},
     "output_type": "execute_result"
    }
   ],
   "source": [
    "fourth_year_rating = temp.get_group(4).c_rate\n",
    "fourth_year_rating"
   ]
  },
  {
   "cell_type": "code",
   "execution_count": 130,
   "metadata": {},
   "outputs": [
    {
     "data": {
      "text/plain": [
       "3    11\n",
       "4     9\n",
       "5     1\n",
       "Name: c_rate, dtype: int64"
      ]
     },
     "execution_count": 130,
     "metadata": {},
     "output_type": "execute_result"
    }
   ],
   "source": [
    "fourth_year_rating.value_counts()"
   ]
  },
  {
   "cell_type": "code",
   "execution_count": 134,
   "metadata": {},
   "outputs": [
    {
     "data": {
      "text/plain": [
       "[<matplotlib.axis.XTick at 0x7f6142e5de80>,\n",
       " <matplotlib.axis.XTick at 0x7f6142e5d8d0>,\n",
       " <matplotlib.axis.XTick at 0x7f6142c78470>,\n",
       " <matplotlib.axis.XTick at 0x7f6142c074e0>,\n",
       " <matplotlib.axis.XTick at 0x7f6142c07978>]"
      ]
     },
     "execution_count": 134,
     "metadata": {},
     "output_type": "execute_result"
    },
    {
     "data": {
      "image/png": "[encoded data removed]",
      "text/plain": [
       "<Figure size 432x288 with 1 Axes>"
      ]
     },
     "metadata": {
      "needs_background": "light"
     },
     "output_type": "display_data"
    }
   ],
   "source": [
    "ax40=sns.histplot(fourth_year_rating,bins=5)\n",
    "#ax5.set(xlabel='Secondry Technology', ylabel='Third year Students')\n",
    "ax40.set_xticks(np.arange(1,6))"
   ]
  },
  {
   "cell_type": "code",
   "execution_count": 136,
   "metadata": {},
   "outputs": [
    {
     "data": {
      "text/plain": [
       "Index(['name', 'branch', 'year', 'gender', 'age', 'pt', 'st', 'ppl', 'spl',\n",
       "       'c_rate', 'w_rate', 'certified', '12', 'sgpa', 'personality',\n",
       "       'behaviour', 'decison', 'adaptablilty', 'life', 'hobby', 'hstudy',\n",
       "       'match'],\n",
       "      dtype='object')"
      ]
     },
     "execution_count": 136,
     "metadata": {},
     "output_type": "execute_result"
    }
   ],
   "source": [
    "features.columns"
   ]
  },
  {
   "cell_type": "code",
   "execution_count": 137,
   "metadata": {},
   "outputs": [
    {
     "data": {
      "text/plain": [
       "0      3\n",
       "1      2\n",
       "2      2\n",
       "3      3\n",
       "4      2\n",
       "      ..\n",
       "323    2\n",
       "324    3\n",
       "325    2\n",
       "326    2\n",
       "327    1\n",
       "Name: sgpa, Length: 328, dtype: int64"
      ]
     },
     "execution_count": 137,
     "metadata": {},
     "output_type": "execute_result"
    }
   ],
   "source": [
    "features[\"sgpa\"]"
   ]
  },
  {
   "cell_type": "markdown",
   "metadata": {},
   "source": [
    "# SGPA Analysis"
   ]
  },
  {
   "cell_type": "markdown",
   "metadata": {},
   "source": [
    "## Encoding"
   ]
  },
  {
   "cell_type": "markdown",
   "metadata": {},
   "source": [
    "1. 9.1 - 10 : 1\n",
    "2. 8.1 - 9 : 2\n",
    "3. 7.1 - 8 : 3\n",
    "4. 6.1 - 7 : 4"
   ]
  },
  {
   "cell_type": "code",
   "execution_count": 139,
   "metadata": {},
   "outputs": [
    {
     "data": {
      "text/plain": [
       "2    215\n",
       "3     63\n",
       "1     47\n",
       "4      3\n",
       "Name: sgpa, dtype: int64"
      ]
     },
     "execution_count": 139,
     "metadata": {},
     "output_type": "execute_result"
    }
   ],
   "source": [
    "features[\"sgpa\"].value_counts()"
   ]
  },
  {
   "cell_type": "code",
   "execution_count": 141,
   "metadata": {},
   "outputs": [],
   "source": [
    "sgpa_data = features[\"sgpa\"].value_counts()"
   ]
  },
  {
   "cell_type": "code",
   "execution_count": 144,
   "metadata": {},
   "outputs": [
    {
     "data": {
      "image/png": "[encoded data removed]",
      "text/plain": [
       "<Figure size 432x288 with 1 Axes>"
      ]
     },
     "metadata": {},
     "output_type": "display_data"
    }
   ],
   "source": [
    "labels = [\"8.1-9\",\"7.1-8\",\"9.1-10\",\"6.1-7\" ]\n",
    "plt.pie(sgpa_data,labels = labels,autopct='%.0f%%')\n",
    "plt.show()"
   ]
  },
  {
   "cell_type": "markdown",
   "metadata": {},
   "source": [
    "## Technical Analysis Ends Here"
   ]
  },
  {
   "cell_type": "code",
   "execution_count": null,
   "metadata": {},
   "outputs": [],
   "source": []
  }
 ],
 "metadata": {
  "kernelspec": {
   "display_name": "Python 3",
   "language": "python",
   "name": "python3"
  },
  "language_info": {
   "codemirror_mode": {
    "name": "ipython",
    "version": 3
   },
   "file_extension": ".py",
   "mimetype": "text/x-python",
   "name": "python",
   "nbconvert_exporter": "python",
   "pygments_lexer": "ipython3",
   "version": "3.6.9"
  }
 },
 "nbformat": 4,
 "nbformat_minor": 4
}
